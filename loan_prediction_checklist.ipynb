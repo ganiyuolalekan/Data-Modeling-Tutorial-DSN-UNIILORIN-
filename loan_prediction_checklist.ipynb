{
 "cells": [
  {
   "cell_type": "markdown",
   "id": "2e31b817-4fba-45bf-8013-36b40fc9d9b2",
   "metadata": {},
   "source": [
    "# Data Modeling in Machine Learning (Classification)\n",
    "\n",
    "This notebook is part of our tutorial series on **data modeling in machine learning**. It aims to act as a subscript to our tutorial video on the subject (data modeling). This notebook follows the template of which we used in the [regression task](big_mart_check_list.ipynb), so they might almost look identical from the start.\n",
    "\n",
    "In this notebook, we explore the [Loan Prediction](data/loan_prediction.csv) dataset. This is a classification dataset consisting of thirteen (13) feature columns described below: \n",
    "\n",
    "- **Loan_ID**: Unique Loan ID\n",
    "- **Gender**: Male/ Female\n",
    "- **Married**: Applicant married (Y/N)\n",
    "- **Dependents**: Number of dependents\n",
    "- **Education**: Applicant Education (Graduate/ Under Graduate)\n",
    "- **Self_Employed**: Self employed (Y/N)\n",
    "- **ApplicantIncome**: Applicant income\n",
    "- **CoapplicantIncome**: Coapplicant income\n",
    "- **LoanAmount**: Loan amount in thousands\n",
    "- **Loan_Amount_Term**: Term of loan in months\n",
    "- **Credit_History**: credit history meets guidelines\n",
    "- **Property_Area**: Urban/ Semi Urban/ Rural\n",
    "- **Loan_Status**: Loan approved (Y/N)\n",
    "\n",
    "What we hope to achieve here is to examine the data modeling process on the [Loan Prediction](data/loan_prediction.csv) dataset making use of our data modeling [checklist](data_modelling_checklist.md) described [below](#What-are-the-steps-(checklist)-in-modeling-data?). Before going too far let's understand some concepts before we begin with this tutorial.\n",
    "\n",
    "- What is data modeling in machine learning?\n",
    "- Why do we model data in machine learning?\n",
    "- What are classification tasks?\n",
    "- What are the steps (checklist) in modeling data?"
   ]
  },
  {
   "cell_type": "markdown",
   "id": "0b2e60c2-9046-4c3e-abf5-0a35c8d4725f",
   "metadata": {},
   "source": [
    "## What is data modeling in machine learning?\n",
    "\n",
    "**Data modeling in machine learning** is the process of **creating machine learning models capable of** predicting labels from features, tuning them for the business need, and validating it on holdout data. The output from data modeling is a trained model that can be used for **making predictions on new data points**."
   ]
  },
  {
   "cell_type": "markdown",
   "id": "c4098b0a-f832-497b-9d26-5aa275c0d34e",
   "metadata": {},
   "source": [
    "## Why do we model data in machine learning?\n",
    "\n",
    "We all know that the purpose of machine learning is to create models that mimic understanding of real-world situations through data and apply their understanding to real-world scenarios. We model data to create a bridge (pipeline) between the dataset and the machine learning model, such that new data can be quickly received and translated to results."
   ]
  },
  {
   "cell_type": "markdown",
   "id": "4b2351fa-9198-4e94-bdcf-b930f8b6d77f",
   "metadata": {},
   "source": [
    "## What are classification tasks?\n",
    "\n",
    "Classification is a task of Machine Learning which assigns a label value to a specific class and then can identify a particular type to be of one kind or another.\n",
    "\n",
    "Our [Loan Prediction](data/loan_prediction.csv) dataset is a classification task and what we aim to predict is the `Loan_Status` of each person (represented by a `Loan_ID`)."
   ]
  },
  {
   "cell_type": "markdown",
   "id": "559522b6-7bea-4feb-8eb5-c65358b79969",
   "metadata": {},
   "source": [
    "## What are the steps (checklist) in modeling data?\n",
    "\n",
    "There are four major steps involved in data modeling tasks. These are **data preparation**, **shortlisting promising models**, **fine-tuning the selected systems**, and **finally presenting your solution**.\n",
    "\n",
    "The full checklist of a data modeling process can be found [here](ml_project_checklist.docx). The checklist was written by [Aurélien Géron](https://www.oreilly.com/people/aurelien-geron/) in his book [Hands-On Machine Learning with Scikit-Learn, Keras, and TensorFlow](https://www.oreilly.com/library/view/hands-on-machine-learning/9781492032632/). But the checklist we'll be making use of is more fine-tuned for data modeling alone. \n",
    "\n",
    "**📖** I strongly recommend this book [Hands-On Machine Learning with Scikit-Learn, Keras, and TensorFlow](https://www.oreilly.com/library/view/hands-on-machine-learning/9781492032632/) to everyone new to the field of machine learning."
   ]
  },
  {
   "cell_type": "markdown",
   "id": "6c2fa366-d45a-4820-b743-3e64abcd657a",
   "metadata": {},
   "source": [
    "### Prepare the Data\n",
    "\n",
    "**Notes:**\n",
    "\n",
    "- Work on copies of the data (keep the original dataset intact).\n",
    "- Write functions for all data transformations you apply, for five reasons:\n",
    "    - So you can easily prepare the data the next time you get a fresh dataset\n",
    "    - So you can apply these transformations in future projects\n",
    "    - To clean and prepare the test set\n",
    "    - To clean and prepare new data instances once your solution is live\n",
    "    - To make it easy to treat your preparation choices as hyperparameters\n",
    "\n",
    "1. **Data cleaning**:\n",
    "    - Fix or remove outliers (optional).\n",
    "    - Fill in missing values (e.g., with zero, mean, median…) or drop their rows (or columns).\n",
    "    \n",
    "2. **Feature selection (optional)**:\n",
    "    - Drop the attributes that provide no useful information for the task.\n",
    "    \n",
    "3. **Feature engineering, where appropriate**:\n",
    "    - Discretize continuous features.\n",
    "    - Decompose features (e.g., categorical, date/time, etc.).\n",
    "    - Add promising transformations of features (e.g., log(x), sqrt(x), x2, etc.).\n",
    "    - Aggregate features into promising new features.\n",
    "\n",
    "4. **Feature scaling**:\n",
    "    - Standardize or normalize features."
   ]
  },
  {
   "cell_type": "markdown",
   "id": "3fd582c4-1006-4fa9-ad17-58ebe2aa78c2",
   "metadata": {},
   "source": [
    "### Shortlist Promising Models\n",
    "\n",
    "**Notes:**\n",
    "\n",
    "- If the data is huge, you may want to sample smaller training sets so you can train many different models in a reasonable time (be aware that this penalizes complex models such as large neural nets or Random Forests).\n",
    "- Once again, try to automate these steps as much as possible.\n",
    "\n",
    "1. Train many quick-and-dirty models from different categories (e.g., linear, naive Bayes, SVM, Random Forest, neural net, etc.) using standard parameters.\n",
    "2. Measure and compare their performance.\n",
    "    - For each model, use N -fold cross-validation and compute the mean and standard deviation of the performance measure on the N folds.\n",
    "3. Analyze the most significant variables for each algorithm.\n",
    "4. Analyze the types of errors the models make.\n",
    "    - What data would a human have used to avoid these errors?\n",
    "5. Perform a quick round of feature selection and engineering.\n",
    "6. Perform one or two more quick iterations of the five previous steps.\n",
    "7. Shortlist the top three to five most promising models, preferring models that make different types of errors."
   ]
  },
  {
   "cell_type": "markdown",
   "id": "9a038c55-505a-49d9-bee1-7197abec479e",
   "metadata": {},
   "source": [
    "### Fine-Tune the System\n",
    "\n",
    "**Notes:**\n",
    "\n",
    "- You will want to use as much data as possible for this step, especially as you move toward the end of fine-tuning.\n",
    "- As always, automate what you can.\n",
    "\n",
    "1. Fine-tune the hyperparameters using cross-validation:\n",
    "    - Treat your data transformation choices as hyperparameters, especially when you are not sure about them (e.g., if you’re not sure whether to replace missing values with zeros or with the median value, or to just drop the rows).\n",
    "    - Unless there are very few hyperparameter values to explore, prefer random search over grid search. If training is very long, you may prefer a Bayesian optimization approach (e.g., using Gaussian process priors, as described by Jasper Snoek et al. ).\n",
    "2. Try Ensemble methods. Combining your best models will often produce better performance than running them individually.\n",
    "3. Once you are confident about your final model, measure its performance on the test set to estimate the generalization error."
   ]
  },
  {
   "cell_type": "markdown",
   "id": "467eb02b-cd2d-44de-8c71-69195876958f",
   "metadata": {},
   "source": [
    "### Present Your Solution\n",
    "\n",
    "1. Document what you have done.\n",
    "2. Create a nice presentation.\n",
    "    - Make sure you highlight the big picture first.\n",
    "3. Explain why your solution achieves the business objective.\n",
    "4. Don’t forget to present interesting points you noticed along the way.\n",
    "    - Describe what worked and what did not.\n",
    "    - List your assumptions and your system’s limitations.\n",
    "5. Ensure your key findings are communicated through beautiful visualizations or easy-to-remember statements (e.g., “the median income is the number-one predictor of housing prices”)."
   ]
  },
  {
   "cell_type": "markdown",
   "id": "725837bc-7207-4a64-944e-174ffc34d70a",
   "metadata": {},
   "source": [
    "### Side Note\n",
    "\n",
    "There are a couple of things I want to point out before we begin. The emojis represented in black quotes stand for different things entirely.\n",
    "\n",
    "**⁉** stand for research or reason finding. At any point you encounter this emoji, you're expected to answer the question and get the intuition behind it.\n",
    "\n",
    "**🛠** stands for activities. The activities described here are all to be compiled and submitted to the class telegram page.\n",
    "\n",
    "**📖** stands for resources. You're expected to follow up on every resource provided in this notebook to aid you in better understanding the task. I would be joking to tell you one single notebook would help you grasp the entirety of data modeling in machine learning.\n",
    "\n",
    "Now that we've explained all of the steps, let's proceed to mark our checklist 😊. "
   ]
  },
  {
   "cell_type": "code",
   "execution_count": 1,
   "id": "ee34cd76-4426-4c06-bc07-a4faf6164fd3",
   "metadata": {},
   "outputs": [],
   "source": [
    "import numpy as np\n",
    "import pandas as pd"
   ]
  },
  {
   "cell_type": "markdown",
   "id": "aca7b716-c715-4998-978c-a87ad1d0086c",
   "metadata": {},
   "source": [
    "Let's import our dataset as `loan_dataset`"
   ]
  },
  {
   "cell_type": "code",
   "execution_count": 2,
   "id": "ac2279e0-f642-40df-bdb8-915b90875e14",
   "metadata": {},
   "outputs": [
    {
     "data": {
      "text/html": [
       "<div>\n",
       "<style scoped>\n",
       "    .dataframe tbody tr th:only-of-type {\n",
       "        vertical-align: middle;\n",
       "    }\n",
       "\n",
       "    .dataframe tbody tr th {\n",
       "        vertical-align: top;\n",
       "    }\n",
       "\n",
       "    .dataframe thead th {\n",
       "        text-align: right;\n",
       "    }\n",
       "</style>\n",
       "<table border=\"1\" class=\"dataframe\">\n",
       "  <thead>\n",
       "    <tr style=\"text-align: right;\">\n",
       "      <th></th>\n",
       "      <th>Gender</th>\n",
       "      <th>Married</th>\n",
       "      <th>Dependents</th>\n",
       "      <th>Education</th>\n",
       "      <th>Self_Employed</th>\n",
       "      <th>ApplicantIncome</th>\n",
       "      <th>CoapplicantIncome</th>\n",
       "      <th>LoanAmount</th>\n",
       "      <th>Loan_Amount_Term</th>\n",
       "      <th>Credit_History</th>\n",
       "      <th>Property_Area</th>\n",
       "      <th>Loan_Status</th>\n",
       "    </tr>\n",
       "    <tr>\n",
       "      <th>Loan_ID</th>\n",
       "      <th></th>\n",
       "      <th></th>\n",
       "      <th></th>\n",
       "      <th></th>\n",
       "      <th></th>\n",
       "      <th></th>\n",
       "      <th></th>\n",
       "      <th></th>\n",
       "      <th></th>\n",
       "      <th></th>\n",
       "      <th></th>\n",
       "      <th></th>\n",
       "    </tr>\n",
       "  </thead>\n",
       "  <tbody>\n",
       "    <tr>\n",
       "      <th>LP001002</th>\n",
       "      <td>Male</td>\n",
       "      <td>No</td>\n",
       "      <td>0</td>\n",
       "      <td>Graduate</td>\n",
       "      <td>No</td>\n",
       "      <td>5849</td>\n",
       "      <td>0.0</td>\n",
       "      <td>NaN</td>\n",
       "      <td>360.0</td>\n",
       "      <td>1.0</td>\n",
       "      <td>Urban</td>\n",
       "      <td>Y</td>\n",
       "    </tr>\n",
       "    <tr>\n",
       "      <th>LP001003</th>\n",
       "      <td>Male</td>\n",
       "      <td>Yes</td>\n",
       "      <td>1</td>\n",
       "      <td>Graduate</td>\n",
       "      <td>No</td>\n",
       "      <td>4583</td>\n",
       "      <td>1508.0</td>\n",
       "      <td>128.0</td>\n",
       "      <td>360.0</td>\n",
       "      <td>1.0</td>\n",
       "      <td>Rural</td>\n",
       "      <td>N</td>\n",
       "    </tr>\n",
       "    <tr>\n",
       "      <th>LP001005</th>\n",
       "      <td>Male</td>\n",
       "      <td>Yes</td>\n",
       "      <td>0</td>\n",
       "      <td>Graduate</td>\n",
       "      <td>Yes</td>\n",
       "      <td>3000</td>\n",
       "      <td>0.0</td>\n",
       "      <td>66.0</td>\n",
       "      <td>360.0</td>\n",
       "      <td>1.0</td>\n",
       "      <td>Urban</td>\n",
       "      <td>Y</td>\n",
       "    </tr>\n",
       "    <tr>\n",
       "      <th>LP001006</th>\n",
       "      <td>Male</td>\n",
       "      <td>Yes</td>\n",
       "      <td>0</td>\n",
       "      <td>Not Graduate</td>\n",
       "      <td>No</td>\n",
       "      <td>2583</td>\n",
       "      <td>2358.0</td>\n",
       "      <td>120.0</td>\n",
       "      <td>360.0</td>\n",
       "      <td>1.0</td>\n",
       "      <td>Urban</td>\n",
       "      <td>Y</td>\n",
       "    </tr>\n",
       "    <tr>\n",
       "      <th>LP001008</th>\n",
       "      <td>Male</td>\n",
       "      <td>No</td>\n",
       "      <td>0</td>\n",
       "      <td>Graduate</td>\n",
       "      <td>No</td>\n",
       "      <td>6000</td>\n",
       "      <td>0.0</td>\n",
       "      <td>141.0</td>\n",
       "      <td>360.0</td>\n",
       "      <td>1.0</td>\n",
       "      <td>Urban</td>\n",
       "      <td>Y</td>\n",
       "    </tr>\n",
       "  </tbody>\n",
       "</table>\n",
       "</div>"
      ],
      "text/plain": [
       "         Gender Married Dependents     Education Self_Employed  \\\n",
       "Loan_ID                                                          \n",
       "LP001002   Male      No          0      Graduate            No   \n",
       "LP001003   Male     Yes          1      Graduate            No   \n",
       "LP001005   Male     Yes          0      Graduate           Yes   \n",
       "LP001006   Male     Yes          0  Not Graduate            No   \n",
       "LP001008   Male      No          0      Graduate            No   \n",
       "\n",
       "          ApplicantIncome  CoapplicantIncome  LoanAmount  Loan_Amount_Term  \\\n",
       "Loan_ID                                                                      \n",
       "LP001002             5849                0.0         NaN             360.0   \n",
       "LP001003             4583             1508.0       128.0             360.0   \n",
       "LP001005             3000                0.0        66.0             360.0   \n",
       "LP001006             2583             2358.0       120.0             360.0   \n",
       "LP001008             6000                0.0       141.0             360.0   \n",
       "\n",
       "          Credit_History Property_Area Loan_Status  \n",
       "Loan_ID                                             \n",
       "LP001002             1.0         Urban           Y  \n",
       "LP001003             1.0         Rural           N  \n",
       "LP001005             1.0         Urban           Y  \n",
       "LP001006             1.0         Urban           Y  \n",
       "LP001008             1.0         Urban           Y  "
      ]
     },
     "execution_count": 2,
     "metadata": {},
     "output_type": "execute_result"
    }
   ],
   "source": [
    "loan_dataset = pd.read_csv(\"data/loan_prediction.csv\", index_col='Loan_ID')\n",
    "loan_dataset.head()"
   ]
  },
  {
   "cell_type": "markdown",
   "id": "965f1971-88fc-46ea-a6a4-7089f85b54c9",
   "metadata": {},
   "source": [
    "We then proceed to using the `.info` method to find out more about the dataset"
   ]
  },
  {
   "cell_type": "code",
   "execution_count": 3,
   "id": "f32aa298-6ef0-4151-ad51-6522908453db",
   "metadata": {},
   "outputs": [
    {
     "name": "stdout",
     "output_type": "stream",
     "text": [
      "<class 'pandas.core.frame.DataFrame'>\n",
      "Index: 614 entries, LP001002 to LP002990\n",
      "Data columns (total 12 columns):\n",
      " #   Column             Non-Null Count  Dtype  \n",
      "---  ------             --------------  -----  \n",
      " 0   Gender             601 non-null    object \n",
      " 1   Married            611 non-null    object \n",
      " 2   Dependents         599 non-null    object \n",
      " 3   Education          614 non-null    object \n",
      " 4   Self_Employed      582 non-null    object \n",
      " 5   ApplicantIncome    614 non-null    int64  \n",
      " 6   CoapplicantIncome  614 non-null    float64\n",
      " 7   LoanAmount         592 non-null    float64\n",
      " 8   Loan_Amount_Term   600 non-null    float64\n",
      " 9   Credit_History     564 non-null    float64\n",
      " 10  Property_Area      614 non-null    object \n",
      " 11  Loan_Status        614 non-null    object \n",
      "dtypes: float64(4), int64(1), object(7)\n",
      "memory usage: 62.4+ KB\n"
     ]
    }
   ],
   "source": [
    "loan_dataset.info()"
   ]
  },
  {
   "cell_type": "markdown",
   "id": "35c6d07c-1727-4a15-9ba7-ed3098e70d1c",
   "metadata": {},
   "source": [
    "#### Prepare the data\n",
    "---\n",
    "\n",
    "From our checklist, the first thing we have to do is **prepare the data**. We start by cleaning the data by filling the missing values in the dataset.\n",
    "\n",
    "After inspecting the dataset, we can tell there are 7 missing feature columns. `[\"Gender\", \"Married\", \"Dependents\", \"Self_Employed\", \"LoanAmount\", \"Loan_Amount_Term\", \"Credit_History\"]`.\n",
    "\n",
    "Since the dataset deals with information of applicants who applied for loans, feature columns like `Gender`, `Married`, `Dependents`, and `Self_Employed` are relevant, but can't actually be strategically filled since none of the other feature columns provides us with information on how we might be able to fill them. So we would apply a simple forward fill on these columns (these are after inspecting the uniqueness of these columns)."
   ]
  },
  {
   "cell_type": "code",
   "execution_count": 4,
   "id": "11478d38-92c3-48fc-8d38-831970bb0e05",
   "metadata": {},
   "outputs": [
    {
     "name": "stdout",
     "output_type": "stream",
     "text": [
      "Gender || ['Male' 'Female' nan]\n",
      "\n",
      "Married || ['No' 'Yes' nan]\n",
      "\n",
      "Dependents || ['0' '1' '2' '3+' nan]\n",
      "\n",
      "Self_Employed || ['No' 'Yes' nan]\n",
      "\n"
     ]
    }
   ],
   "source": [
    "for col in [\"Gender\", \"Married\", \"Dependents\", \"Self_Employed\"]:\n",
    "    print(col, loan_dataset[col].unique(), sep=\" || \", end=\"\\n\\n\")"
   ]
  },
  {
   "cell_type": "markdown",
   "id": "cf17a289-2c70-4c59-8749-a6c61dab0537",
   "metadata": {},
   "source": [
    "What we tried doing earlier is ensuring there is no false duplicate across the feature columns, like Male and male, or Yes and yes. Now that we've confirmed that, we can proceed to fill the columns and inspect the changes."
   ]
  },
  {
   "cell_type": "code",
   "execution_count": 5,
   "id": "7f466899-77f5-4a01-af6e-c6759e118a29",
   "metadata": {},
   "outputs": [
    {
     "name": "stdout",
     "output_type": "stream",
     "text": [
      "Gender || ['Male' 'Female']\n",
      "\n",
      "Married || ['No' 'Yes']\n",
      "\n",
      "Dependents || ['0' '1' '2' '3+']\n",
      "\n",
      "Self_Employed || ['No' 'Yes']\n",
      "\n"
     ]
    }
   ],
   "source": [
    "for col in [\"Gender\", \"Married\", \"Dependents\", \"Self_Employed\"]:\n",
    "    loan_dataset[col].ffill(inplace=True)\n",
    "    print(col, loan_dataset[col].unique(), sep=\" || \", end=\"\\n\\n\")"
   ]
  },
  {
   "cell_type": "markdown",
   "id": "dd5dc93c-912c-4f06-9c6c-afa4ca243108",
   "metadata": {},
   "source": [
    "Beautiful! Now that we've addressed these columns, we can now work on the columns `[\"LoanAmount\", \"Loan_Amount_Term\", \"Credit_History\"]`. \n",
    "\n",
    "We could head straight to applying a forward fill, but we suspect there would be some sort of relationship between the columns `LoanAmount` and `ApplicantIncome`, so we want to first check out that relationship. The alternative if there is no relationship is to apply the mean to fill the missing columns.\n",
    "\n",
    "The `Loan_Amount_Term` falls in a range of 60's (i.e. 60, 120, 180, 240, 300, 360), with 12 and 36. Therefore, applying mean isn't an option. Forward filling might work but we also wish to see if there are relationships between `Loan_Amount_Term` and `ApplicantIncome`.\n",
    "\n",
    "Like the `Loan_Amount_Term`, for the `Credit_History` forward filling might work but we also wish to see if there are relationships between `Credit_History` and `ApplicantIncome`."
   ]
  },
  {
   "cell_type": "code",
   "execution_count": 6,
   "id": "04b5dc4d-1d3d-44c6-922e-e2dd6b9489e8",
   "metadata": {},
   "outputs": [],
   "source": [
    "# In order to plot the relationship, we have to eliminate \n",
    "# the nan values in the columns \n",
    "# [\"LoanAmount\", \"Loan_Amount_Term\", \"Credit_History\"]\n",
    "\n",
    "loan_dataset_copy = loan_dataset.copy()\n",
    "\n",
    "loan_dataset_copy.Credit_History.ffill(inplace=True)\n",
    "loan_dataset_copy.Loan_Amount_Term.ffill(inplace=True)\n",
    "loan_dataset_copy.LoanAmount = loan_dataset_copy.LoanAmount.map(\n",
    "    lambda x: loan_dataset_copy.LoanAmount.mean() if x is None else x\n",
    ")"
   ]
  },
  {
   "cell_type": "code",
   "execution_count": 7,
   "id": "69bcd8d2-95dd-447c-a75b-94395dbee8cb",
   "metadata": {},
   "outputs": [],
   "source": [
    "import seaborn as sns\n",
    "import matplotlib.pyplot as plt\n",
    "\n",
    "%matplotlib inline\n",
    "\n",
    "sns.set(rc={'figure.figsize':(12,5)})"
   ]
  },
  {
   "cell_type": "code",
   "execution_count": 8,
   "id": "5ebb2e11-ebfc-49dd-af0a-8d053a0d1dd3",
   "metadata": {},
   "outputs": [
    {
     "data": {
      "image/png": "[encoded data removed]",
      "text/plain": [
       "<Figure size 1080x1080 with 3 Axes>"
      ]
     },
     "metadata": {},
     "output_type": "display_data"
    }
   ],
   "source": [
    "fig, axes = plt.subplots(3, 1, figsize=(15, 15))\n",
    "\n",
    "for ax, col in zip(axes, [\"LoanAmount\", \"Loan_Amount_Term\", \"Credit_History\"]):\n",
    "    if col == \"LoanAmount\":\n",
    "        sns.regplot(x=col, y=\"ApplicantIncome\", data=loan_dataset_copy, ax=ax);\n",
    "    else:\n",
    "        sns.boxplot(x=col, y=\"ApplicantIncome\", data=loan_dataset_copy, ax=ax);\n",
    "\n",
    "del loan_dataset_copy"
   ]
  },
  {
   "cell_type": "markdown",
   "id": "02f880e1-9e8e-4d08-af3d-28184929af1b",
   "metadata": {},
   "source": [
    "We can see from the graphs above that there's a linear relationship between the `LoanAmount` and the `ApplicantIncome`. We can therefore create a linear regression model to fill the missing values based on this relationship.\n",
    "\n",
    "But there are no relationships as far as we can tell between the `ApplicantIncome` and both the `Loan_Amount_Term` and `Credit_History` feature columns, so we would proceed to perform a forward fill on the `Loan_Amount_Term` and `Credit_History` feature columns."
   ]
  },
  {
   "cell_type": "code",
   "execution_count": 9,
   "id": "7ab28efc-7508-4d78-80fe-70a3218b50c7",
   "metadata": {},
   "outputs": [
    {
     "name": "stdout",
     "output_type": "stream",
     "text": [
      "Loan_Amount_Term || [360. 120. 240. 180.  60. 300. 480.  36.  84.  12.]\n",
      "\n",
      "Credit_History || [1. 0.]\n",
      "\n"
     ]
    }
   ],
   "source": [
    "for col in [\"Loan_Amount_Term\", \"Credit_History\"]:\n",
    "    loan_dataset[col].ffill(inplace=True)\n",
    "    print(col, loan_dataset[col].unique(), sep=\" || \", end=\"\\n\\n\")"
   ]
  },
  {
   "cell_type": "markdown",
   "id": "f0e5ffc6-ed07-4a07-a568-599216bac24b",
   "metadata": {},
   "source": [
    "Let's create a linear regression model to help understand this relationship. We'll start by separating a missing values from the present once."
   ]
  },
  {
   "cell_type": "code",
   "execution_count": 10,
   "id": "4c813d08-d670-4ecc-85fb-014b304f9540",
   "metadata": {},
   "outputs": [],
   "source": [
    "applicant_income = loan_dataset.ApplicantIncome\n",
    "loan_amount = loan_dataset.LoanAmount"
   ]
  },
  {
   "cell_type": "code",
   "execution_count": 11,
   "id": "07658494-5837-4068-97fa-111fd9014243",
   "metadata": {},
   "outputs": [],
   "source": [
    "X_train, y_train = (\n",
    "    applicant_income[loan_amount.notnull()].to_numpy().reshape(-1, 1), \n",
    "    loan_amount[loan_amount.notnull()].to_numpy().reshape(-1, 1)\n",
    ")\n",
    "\n",
    "missing_loan_amount = loan_amount[loan_amount.isnull()]\n",
    "missing_applicant_income = applicant_income[loan_amount.isnull()]"
   ]
  },
  {
   "cell_type": "code",
   "execution_count": 12,
   "id": "69ec525e-d67d-4ad8-9942-515544ffa587",
   "metadata": {},
   "outputs": [],
   "source": [
    "from sklearn.linear_model import LinearRegression"
   ]
  },
  {
   "cell_type": "code",
   "execution_count": 13,
   "id": "0260380f-beed-4133-ac98-9d35ab5a5e7a",
   "metadata": {},
   "outputs": [],
   "source": [
    "loan_amount_filler = LinearRegression()"
   ]
  },
  {
   "cell_type": "code",
   "execution_count": 14,
   "id": "48a9eed9-121f-4a9b-8bef-ad8ae8631dda",
   "metadata": {},
   "outputs": [
    {
     "data": {
      "text/plain": [
       "LinearRegression()"
      ]
     },
     "execution_count": 14,
     "metadata": {},
     "output_type": "execute_result"
    }
   ],
   "source": [
    "loan_amount_filler.fit(X_train, y_train)"
   ]
  },
  {
   "cell_type": "code",
   "execution_count": 15,
   "id": "4f897c4c-456b-4fc6-a45f-33751040aea4",
   "metadata": {},
   "outputs": [],
   "source": [
    "predictions = loan_amount_filler.predict(missing_applicant_income.to_numpy().reshape(-1, 1))"
   ]
  },
  {
   "cell_type": "code",
   "execution_count": 16,
   "id": "37a1b222-b395-4cd5-986c-773edb1adbf6",
   "metadata": {},
   "outputs": [
    {
     "name": "stderr",
     "output_type": "stream",
     "text": [
      "<ipython-input-16-b9ad45078ae6>:1: SettingWithCopyWarning: \n",
      "A value is trying to be set on a copy of a slice from a DataFrame\n",
      "\n",
      "See the caveats in the documentation: https://pandas.pydata.org/pandas-docs/stable/user_guide/indexing.html#returning-a-view-versus-a-copy\n",
      "  loan_dataset.LoanAmount[loan_dataset.LoanAmount.isnull()] = np.round(np.squeeze(predictions))\n"
     ]
    }
   ],
   "source": [
    "loan_dataset.LoanAmount[loan_dataset.LoanAmount.isnull()] = np.round(np.squeeze(predictions))"
   ]
  },
  {
   "cell_type": "code",
   "execution_count": 17,
   "id": "326c7aa2-aeb3-41a5-90b7-a4e531680455",
   "metadata": {},
   "outputs": [
    {
     "name": "stdout",
     "output_type": "stream",
     "text": [
      "<class 'pandas.core.frame.DataFrame'>\n",
      "Index: 614 entries, LP001002 to LP002990\n",
      "Data columns (total 12 columns):\n",
      " #   Column             Non-Null Count  Dtype  \n",
      "---  ------             --------------  -----  \n",
      " 0   Gender             614 non-null    object \n",
      " 1   Married            614 non-null    object \n",
      " 2   Dependents         614 non-null    object \n",
      " 3   Education          614 non-null    object \n",
      " 4   Self_Employed      614 non-null    object \n",
      " 5   ApplicantIncome    614 non-null    int64  \n",
      " 6   CoapplicantIncome  614 non-null    float64\n",
      " 7   LoanAmount         614 non-null    float64\n",
      " 8   Loan_Amount_Term   614 non-null    float64\n",
      " 9   Credit_History     614 non-null    float64\n",
      " 10  Property_Area      614 non-null    object \n",
      " 11  Loan_Status        614 non-null    object \n",
      "dtypes: float64(4), int64(1), object(7)\n",
      "memory usage: 78.5+ KB\n"
     ]
    }
   ],
   "source": [
    "loan_dataset.info()"
   ]
  },
  {
   "cell_type": "markdown",
   "id": "37b28a65-06e5-4695-ba63-c3541dc898e9",
   "metadata": {},
   "source": [
    "We've successfully cleaned the dataset ✔\n",
    "\n",
    "#### Feature Selection\n",
    "---\n",
    "\n",
    "The next thing on our checklist is **feature selection**, which deals with excluding attributes (feature columns) that provide little to no useful information for the task. \n",
    "\n",
    "We could manually handle this by hand picking feature columns that we consider irrelevant to the dataset, but we would try something different here.\n",
    "\n",
    "We know that the random forest is an ensemble of decision trees, in each decision tree is a set of internal nodes and leaves. In the internal node, the selected feature is used to make decision on how to divide the data set into two separate sets with similars responses within. This gives the tree the ability to measure feature importance.\n",
    "\n",
    "Feature importance is calculated as the decrease in node impurity weighted by the probability of reaching that node. The node probability can be calculated by the number of samples that reach the node, divided by the total number of samples. The higher the value the more important the feature.\n",
    "\n",
    "We would be making use of the decision tree classifier to measure the feature importance of each feature column. \n",
    "\n",
    "We'll start by converting all the category feature columns (`[\"Gender\", \"Married\", \"Dependents\", \"Education\", \"Self_Employed\", \"Property_Area\", \"Loan_Status\"]`) to numbers, and then separate the column `Loan_Status` from the rest of the data to form the target."
   ]
  },
  {
   "cell_type": "code",
   "execution_count": 18,
   "id": "589e2de8-ef7a-4358-9b14-bb33f09b24d9",
   "metadata": {},
   "outputs": [],
   "source": [
    "loan_dataset_copy = loan_dataset.copy()"
   ]
  },
  {
   "cell_type": "code",
   "execution_count": 19,
   "id": "6a3b8b4c-c887-4738-abe6-27d96f219909",
   "metadata": {},
   "outputs": [],
   "source": [
    "# Asjusting the Gender feature column\n",
    "loan_dataset_copy.Gender.replace({\n",
    "    \"Male\": 1,\n",
    "    \"Female\": 0,\n",
    "}, inplace=True)\n",
    "\n",
    "# Asjusting the Married feature column\n",
    "loan_dataset_copy.Married.replace({\n",
    "    \"Yes\": 1,\n",
    "    \"No\": 0,\n",
    "}, inplace=True)\n",
    "\n",
    "# Asjusting the Dependents feature column\n",
    "loan_dataset_copy.Dependents.replace({\n",
    "    \"0\": 0,\n",
    "    \"1\": 1,\n",
    "    \"2\": 2,\n",
    "    \"3+\": 3,\n",
    "}, inplace=True)\n",
    "\n",
    "# Asjusting the Education feature column\n",
    "loan_dataset_copy.Education.replace({\n",
    "    \"Not Graduate\": 1,\n",
    "    \"Graduate\": 0,\n",
    "}, inplace=True)\n",
    "\n",
    "# Asjusting the Self_Employed feature column\n",
    "loan_dataset_copy.Self_Employed.replace({\n",
    "    \"Yes\": 1,\n",
    "    \"No\": 0,\n",
    "}, inplace=True)\n",
    "\n",
    "# Asjusting the Property_Area feature column\n",
    "loan_dataset_copy.Property_Area.replace({\n",
    "    \"Rural\": 0,\n",
    "    \"Semiurban\": 1,\n",
    "    \"Urban\": 2,\n",
    "}, inplace=True)\n",
    "\n",
    "# Asjusting the Loan_Status feature column\n",
    "loan_dataset_copy.Loan_Status.replace({\n",
    "    \"Yes\": 1,\n",
    "    \"No\": 0,\n",
    "}, inplace=True)"
   ]
  },
  {
   "cell_type": "code",
   "execution_count": 20,
   "id": "c0b7792c-e39d-4299-886f-1507fc4cfe55",
   "metadata": {},
   "outputs": [],
   "source": [
    "target = loan_dataset_copy.Loan_Status\n",
    "data = loan_dataset_copy.drop('Loan_Status', axis=1)"
   ]
  },
  {
   "cell_type": "code",
   "execution_count": 21,
   "id": "4eaf055e-2926-4592-9364-dd4f2c01e866",
   "metadata": {},
   "outputs": [
    {
     "data": {
      "text/html": [
       "<div>\n",
       "<style scoped>\n",
       "    .dataframe tbody tr th:only-of-type {\n",
       "        vertical-align: middle;\n",
       "    }\n",
       "\n",
       "    .dataframe tbody tr th {\n",
       "        vertical-align: top;\n",
       "    }\n",
       "\n",
       "    .dataframe thead th {\n",
       "        text-align: right;\n",
       "    }\n",
       "</style>\n",
       "<table border=\"1\" class=\"dataframe\">\n",
       "  <thead>\n",
       "    <tr style=\"text-align: right;\">\n",
       "      <th></th>\n",
       "      <th>Gender</th>\n",
       "      <th>Married</th>\n",
       "      <th>Dependents</th>\n",
       "      <th>Education</th>\n",
       "      <th>Self_Employed</th>\n",
       "      <th>ApplicantIncome</th>\n",
       "      <th>CoapplicantIncome</th>\n",
       "      <th>LoanAmount</th>\n",
       "      <th>Loan_Amount_Term</th>\n",
       "      <th>Credit_History</th>\n",
       "      <th>Property_Area</th>\n",
       "    </tr>\n",
       "    <tr>\n",
       "      <th>Loan_ID</th>\n",
       "      <th></th>\n",
       "      <th></th>\n",
       "      <th></th>\n",
       "      <th></th>\n",
       "      <th></th>\n",
       "      <th></th>\n",
       "      <th></th>\n",
       "      <th></th>\n",
       "      <th></th>\n",
       "      <th></th>\n",
       "      <th></th>\n",
       "    </tr>\n",
       "  </thead>\n",
       "  <tbody>\n",
       "    <tr>\n",
       "      <th>LP001002</th>\n",
       "      <td>1</td>\n",
       "      <td>0</td>\n",
       "      <td>0</td>\n",
       "      <td>0</td>\n",
       "      <td>0</td>\n",
       "      <td>5849</td>\n",
       "      <td>0.0</td>\n",
       "      <td>150.0</td>\n",
       "      <td>360.0</td>\n",
       "      <td>1.0</td>\n",
       "      <td>2</td>\n",
       "    </tr>\n",
       "    <tr>\n",
       "      <th>LP001003</th>\n",
       "      <td>1</td>\n",
       "      <td>1</td>\n",
       "      <td>1</td>\n",
       "      <td>0</td>\n",
       "      <td>0</td>\n",
       "      <td>4583</td>\n",
       "      <td>1508.0</td>\n",
       "      <td>128.0</td>\n",
       "      <td>360.0</td>\n",
       "      <td>1.0</td>\n",
       "      <td>0</td>\n",
       "    </tr>\n",
       "    <tr>\n",
       "      <th>LP001005</th>\n",
       "      <td>1</td>\n",
       "      <td>1</td>\n",
       "      <td>0</td>\n",
       "      <td>0</td>\n",
       "      <td>1</td>\n",
       "      <td>3000</td>\n",
       "      <td>0.0</td>\n",
       "      <td>66.0</td>\n",
       "      <td>360.0</td>\n",
       "      <td>1.0</td>\n",
       "      <td>2</td>\n",
       "    </tr>\n",
       "    <tr>\n",
       "      <th>LP001006</th>\n",
       "      <td>1</td>\n",
       "      <td>1</td>\n",
       "      <td>0</td>\n",
       "      <td>1</td>\n",
       "      <td>0</td>\n",
       "      <td>2583</td>\n",
       "      <td>2358.0</td>\n",
       "      <td>120.0</td>\n",
       "      <td>360.0</td>\n",
       "      <td>1.0</td>\n",
       "      <td>2</td>\n",
       "    </tr>\n",
       "    <tr>\n",
       "      <th>LP001008</th>\n",
       "      <td>1</td>\n",
       "      <td>0</td>\n",
       "      <td>0</td>\n",
       "      <td>0</td>\n",
       "      <td>0</td>\n",
       "      <td>6000</td>\n",
       "      <td>0.0</td>\n",
       "      <td>141.0</td>\n",
       "      <td>360.0</td>\n",
       "      <td>1.0</td>\n",
       "      <td>2</td>\n",
       "    </tr>\n",
       "  </tbody>\n",
       "</table>\n",
       "</div>"
      ],
      "text/plain": [
       "          Gender  Married  Dependents  Education  Self_Employed  \\\n",
       "Loan_ID                                                           \n",
       "LP001002       1        0           0          0              0   \n",
       "LP001003       1        1           1          0              0   \n",
       "LP001005       1        1           0          0              1   \n",
       "LP001006       1        1           0          1              0   \n",
       "LP001008       1        0           0          0              0   \n",
       "\n",
       "          ApplicantIncome  CoapplicantIncome  LoanAmount  Loan_Amount_Term  \\\n",
       "Loan_ID                                                                      \n",
       "LP001002             5849                0.0       150.0             360.0   \n",
       "LP001003             4583             1508.0       128.0             360.0   \n",
       "LP001005             3000                0.0        66.0             360.0   \n",
       "LP001006             2583             2358.0       120.0             360.0   \n",
       "LP001008             6000                0.0       141.0             360.0   \n",
       "\n",
       "          Credit_History  Property_Area  \n",
       "Loan_ID                                  \n",
       "LP001002             1.0              2  \n",
       "LP001003             1.0              0  \n",
       "LP001005             1.0              2  \n",
       "LP001006             1.0              2  \n",
       "LP001008             1.0              2  "
      ]
     },
     "execution_count": 21,
     "metadata": {},
     "output_type": "execute_result"
    }
   ],
   "source": [
    "data.head()"
   ]
  },
  {
   "cell_type": "code",
   "execution_count": 22,
   "id": "d0377ec8-5966-46aa-958d-0fdd12205a7b",
   "metadata": {},
   "outputs": [],
   "source": [
    "from sklearn.tree import DecisionTreeClassifier"
   ]
  },
  {
   "cell_type": "code",
   "execution_count": 23,
   "id": "221b1bc2-64be-4627-95c0-7871337ba4e7",
   "metadata": {},
   "outputs": [],
   "source": [
    "decision_tree_clf = DecisionTreeClassifier()"
   ]
  },
  {
   "cell_type": "code",
   "execution_count": 24,
   "id": "41b6e576-b2cc-4692-8ef8-82a1200151e8",
   "metadata": {},
   "outputs": [
    {
     "data": {
      "text/plain": [
       "DecisionTreeClassifier()"
      ]
     },
     "execution_count": 24,
     "metadata": {},
     "output_type": "execute_result"
    }
   ],
   "source": [
    "decision_tree_clf.fit(data, target)"
   ]
  },
  {
   "cell_type": "code",
   "execution_count": 25,
   "id": "1d12a4f0-b8ef-4997-bafa-ca96beaa2dfa",
   "metadata": {},
   "outputs": [
    {
     "name": "stdout",
     "output_type": "stream",
     "text": [
      "Gender | 2.71\n",
      "Married | 1.01\n",
      "Dependents | 5.44\n",
      "Education | 1.79\n",
      "Self_Employed | 2.23\n",
      "ApplicantIncome | 25.47\n",
      "CoapplicantIncome | 10.62\n",
      "LoanAmount | 18.32\n",
      "Loan_Amount_Term | 2.74\n",
      "Credit_History | 27.58\n",
      "Property_Area | 2.08\n"
     ]
    }
   ],
   "source": [
    "# Previewing the features and their importance\n",
    "\n",
    "for col, fi in zip(loan_dataset_copy, decision_tree_clf.feature_importances_):\n",
    "    print(col, round(fi * 100, 2), sep=\" | \")"
   ]
  },
  {
   "cell_type": "code",
   "execution_count": 26,
   "id": "3c2d3624-a963-4484-a26d-f43c345b97ad",
   "metadata": {},
   "outputs": [
    {
     "name": "stdout",
     "output_type": "stream",
     "text": [
      "Credit_History | 27.58\n",
      "ApplicantIncome | 25.47\n",
      "LoanAmount | 18.32\n",
      "CoapplicantIncome | 10.62\n",
      "Dependents | 5.44\n",
      "Loan_Amount_Term | 2.74\n",
      "Gender | 2.71\n",
      "Self_Employed | 2.23\n",
      "Property_Area | 2.08\n",
      "Education | 1.79\n",
      "Married | 1.01\n"
     ]
    }
   ],
   "source": [
    "# Previwing the features and their importance in the order of their importance\n",
    "\n",
    "for fi, col in sorted(zip(decision_tree_clf.feature_importances_, loan_dataset_copy), reverse=True):\n",
    "    print(col, round(fi * 100, 2), sep=\" | \")"
   ]
  },
  {
   "cell_type": "markdown",
   "id": "b5fbecae-1e4d-4252-8c8f-423f176cb22e",
   "metadata": {},
   "source": [
    "> **🛠**: Using graphviz, visualize this decision tree to see what is going on behind the scene.\n",
    "\n",
    "If you summed up the importance of each feature to the predicted outcome, we would get a total of 100, implying the importance of each feature is spread in the percentage of the importance of the feature; from the most important to the least important.\n",
    "\n",
    "So three (3) of the most important features to our dataset are the `Credit_History`, `ApplicantIncome`, and `LoanAmount`. the two least relevant features are `Gender` and `Married` features. With these facts, we can make decisions on the kind of features we want to make use of.\n",
    "\n",
    "For this tutorial, we would be dropping the least most important features which are the `Gender` and `Married` features."
   ]
  },
  {
   "cell_type": "code",
   "execution_count": 27,
   "id": "baed9473-f134-4fa5-a48d-7200058e16e0",
   "metadata": {},
   "outputs": [],
   "source": [
    "loan_dataset.drop(['Gender', 'Married'], axis=1, inplace=True)"
   ]
  },
  {
   "cell_type": "markdown",
   "id": "580aa09e-83d0-4206-959c-c9992dfbd9f7",
   "metadata": {},
   "source": [
    "We'll therefore skip both the **feature selection**. ✔\n",
    "\n",
    "#### Feature Engineering\n",
    "---\n",
    "\n",
    "Feature engineering is the process of transforming raw data into features that better represent the underlying problem to the predictive models, resulting in improved model accuracy on unseen data. Some of the means of feature engineering as listed from our checklist are:\n",
    "\n",
    "- Discretize continuous features.\n",
    "- Decompose features (e.g., categorical, date/time, etc.).\n",
    "- Add promising transformations of features (e.g., log(x), sqrt(x), x2, etc.).\n",
    "- Aggregate features into promising new features.\n",
    "\n",
    "There is no need to discretize continuous feature columns because none of the feature columns are best suited for discretization, there is no feature column we can decompose, there are no transformations we can apply to improve the data and there is no need to aggregate the features into a new feature.\n",
    "\n",
    "> **📖** Feature engineering is a very important topic as it helps in reducing the dimension of the dataset while improving the chances of the dataset being accurate when applied to a model. I recommend this article [Fundamental Techniques of Feature Engineering for Machine Learning](https://towardsdatascience.com/feature-engineering-for-machine-learning-3a5e293a5114) by [Emre Rençberoğlu](https://medium.com/@emrerencberoglu) for better enlightenment on the various feature engineering techniques."
   ]
  },
  {
   "cell_type": "markdown",
   "id": "9a99dc93-073a-4b83-b802-7586e8a2169c",
   "metadata": {},
   "source": [
    "A bit of what we did during our feature selection process was engineering the features to suit the needs of the machine learning model. We could apply that same method here but we'll be trying something different, even though the first approach is recommended for simplicity."
   ]
  },
  {
   "cell_type": "markdown",
   "id": "083f1a78-83c0-43f4-8144-38aa248e5630",
   "metadata": {},
   "source": [
    "Scikit-Learn has provided a couple of algorithms for us to achieve this. These algorithms include the label, ordinal, and one hot encoder. Let's start by defining the various encoders and how they function.\n",
    "\n",
    "##### **Label Encoders**\n",
    "\n",
    "Label Encoding is an encoding technique for handling categorical variables. In this technique, each label is assigned a unique integer based on alphabetical ordering. \n",
    "\n",
    "![Label Encoding](images/label_encoding.png)\n",
    "\n",
    "Label encoders do not take categorical order into consideration, and this is the reason why we have ordinal encoders"
   ]
  },
  {
   "cell_type": "markdown",
   "id": "124ab4cb-dda9-4e9d-a418-0da833a1eeca",
   "metadata": {},
   "source": [
    "##### **Ordinal Encoders**\n",
    "\n",
    "Ordinal Encoding like label encoding is an encoding technique for handling categorical variables. In this technique, each unique category value is assigned an integer value. For example, red is 1, green is 2, and blue is 3.\n",
    "\n",
    "![Ordinal Encoding](images/ordinal_encoding.png)\n",
    "\n",
    "Ordinal encoders take categorical order into consideration which is good for categorical variables that has order like Big, Medium, Small"
   ]
  },
  {
   "cell_type": "markdown",
   "id": "c5c69ada-e4b0-4db6-88b9-48868480e3a1",
   "metadata": {},
   "source": [
    "##### **One-Hot Encoders**\n",
    "\n",
    "One hot encoding is a process by which categorical variables are converted into a form that could be provided to ML algorithms to do a better job in prediction. \n",
    "\n",
    "![One Hot Encoding](images/ohe.jpg)\n",
    "\n",
    "This form converts a categorical feature column to a series of columns stating if the category is present (1) or absent (0) in the new set of feature columns. Label encoders do not take categorical order into consideration, and this is the reason why we have ordinal encoders.\n",
    "\n",
    "There are five (5) categorical columns in our dataset (after feature selection). These columns are `Dependents`, `Education`, `Self_Employed`, `Credit_History`, and `Property_Area`. We'll have to look through them to decide on what encoder best suits a feature column."
   ]
  },
  {
   "cell_type": "code",
   "execution_count": 28,
   "id": "46aa9157-3049-475e-94c7-2811cd80f5a6",
   "metadata": {},
   "outputs": [],
   "source": [
    "categorical_columns = [\n",
    "    'Dependents', 'Education', 'Self_Employed', \n",
    "    'Credit_History', 'Property_Area'\n",
    "]"
   ]
  },
  {
   "cell_type": "markdown",
   "id": "f0474a94-eda9-4d42-98e7-d9ca454494eb",
   "metadata": {},
   "source": [
    "One of the best ways to decide on the kind of encoder to make use of is by knowing the number of unique categories belonging to a feature column.\n",
    "\n",
    "The **rule of thumb** I make use of is making use of one-hot encoding for categories of 2 & 3 value, ordinal encoding for categories between 2-7 values with a certain order between them, and label encoding for every other."
   ]
  },
  {
   "cell_type": "code",
   "execution_count": 29,
   "id": "17798cfa-4f18-4c37-9908-8223926e42f4",
   "metadata": {},
   "outputs": [
    {
     "name": "stdout",
     "output_type": "stream",
     "text": [
      "Dependents | ['0' '1' '2' '3+'] | 4\n",
      "\n",
      "Education | ['Graduate' 'Not Graduate'] | 2\n",
      "\n",
      "Self_Employed | ['No' 'Yes'] | 2\n",
      "\n",
      "Credit_History | [1. 0.] | 2\n",
      "\n",
      "Property_Area | ['Urban' 'Rural' 'Semiurban'] | 3\n",
      "\n"
     ]
    }
   ],
   "source": [
    "for col in categorical_columns:\n",
    "    values = loan_dataset[col].unique()\n",
    "    \n",
    "    print(\n",
    "        col, \n",
    "        values if len(values) in range(10) else values[:10], \n",
    "        len(values), \n",
    "        sep=\" | \", end=\"\\n\\n\"\n",
    "    )"
   ]
  },
  {
   "cell_type": "markdown",
   "id": "b4025e1a-01b2-456c-8165-197790eefb98",
   "metadata": {},
   "source": [
    "There is no order between the columns `Education`, `Self_Employed`, and `Credit_History`. But there is an order between the columns `Dependents` and `Property_Area`.\n",
    "\n",
    "We would be making use of the `sklearn.compose.ColumnTransformer` to perform a transformation on these columns as we as scaling the continuous feature columns in the dataset.\n",
    "\n",
    "The Scikit-Learn Column-Transformer applies transformers to columns of an array or pandas DataFrame. This estimator allows different columns or column subsets of the input to be transformed separately and the features generated by each transformer will be concatenated to form a single feature space. We would be applying the ordinal encoders to the various categorical columns."
   ]
  },
  {
   "cell_type": "code",
   "execution_count": 30,
   "id": "8518e160-7e74-48d4-855e-8271c59cd797",
   "metadata": {},
   "outputs": [],
   "source": [
    "from sklearn.compose import ColumnTransformer\n",
    "from sklearn.preprocessing import OrdinalEncoder"
   ]
  },
  {
   "cell_type": "code",
   "execution_count": 31,
   "id": "15703726-aa50-4ae8-9580-1dad1fde7c3c",
   "metadata": {},
   "outputs": [],
   "source": [
    "categorical_columns += ['Loan_Status']\n",
    "non_categorical_columns = [\n",
    "    col \n",
    "    for col in loan_dataset.columns \n",
    "    if col not in categorical_columns\n",
    "]"
   ]
  },
  {
   "cell_type": "code",
   "execution_count": 32,
   "id": "b10d82a6-56b5-4cf4-bf1a-6e8a4eac76dd",
   "metadata": {},
   "outputs": [],
   "source": [
    "transformer = ColumnTransformer([\n",
    "    ('others_cols', 'passthrough', non_categorical_columns),\n",
    "    ('categorical_cold', OrdinalEncoder(), categorical_columns)\n",
    "])"
   ]
  },
  {
   "cell_type": "code",
   "execution_count": 33,
   "id": "f5f003b5-3c25-4997-8cd0-87773015d40c",
   "metadata": {},
   "outputs": [],
   "source": [
    "data = transformer.fit_transform(loan_dataset)"
   ]
  },
  {
   "cell_type": "code",
   "execution_count": 34,
   "id": "fe6a2265-23d7-4ed4-82b3-0612b219e96e",
   "metadata": {},
   "outputs": [],
   "source": [
    "loan_dataset = pd.DataFrame(\n",
    "    data, \n",
    "    columns=non_categorical_columns + categorical_columns, \n",
    "    index=loan_dataset.index\n",
    ")"
   ]
  },
  {
   "cell_type": "code",
   "execution_count": 35,
   "id": "2d89796b-388b-4375-8499-011cb25043d4",
   "metadata": {},
   "outputs": [
    {
     "data": {
      "text/html": [
       "<div>\n",
       "<style scoped>\n",
       "    .dataframe tbody tr th:only-of-type {\n",
       "        vertical-align: middle;\n",
       "    }\n",
       "\n",
       "    .dataframe tbody tr th {\n",
       "        vertical-align: top;\n",
       "    }\n",
       "\n",
       "    .dataframe thead th {\n",
       "        text-align: right;\n",
       "    }\n",
       "</style>\n",
       "<table border=\"1\" class=\"dataframe\">\n",
       "  <thead>\n",
       "    <tr style=\"text-align: right;\">\n",
       "      <th></th>\n",
       "      <th>ApplicantIncome</th>\n",
       "      <th>CoapplicantIncome</th>\n",
       "      <th>LoanAmount</th>\n",
       "      <th>Loan_Amount_Term</th>\n",
       "      <th>Dependents</th>\n",
       "      <th>Education</th>\n",
       "      <th>Self_Employed</th>\n",
       "      <th>Credit_History</th>\n",
       "      <th>Property_Area</th>\n",
       "      <th>Loan_Status</th>\n",
       "    </tr>\n",
       "    <tr>\n",
       "      <th>Loan_ID</th>\n",
       "      <th></th>\n",
       "      <th></th>\n",
       "      <th></th>\n",
       "      <th></th>\n",
       "      <th></th>\n",
       "      <th></th>\n",
       "      <th></th>\n",
       "      <th></th>\n",
       "      <th></th>\n",
       "      <th></th>\n",
       "    </tr>\n",
       "  </thead>\n",
       "  <tbody>\n",
       "    <tr>\n",
       "      <th>LP001002</th>\n",
       "      <td>5849.0</td>\n",
       "      <td>0.0</td>\n",
       "      <td>150.0</td>\n",
       "      <td>360.0</td>\n",
       "      <td>0.0</td>\n",
       "      <td>0.0</td>\n",
       "      <td>0.0</td>\n",
       "      <td>1.0</td>\n",
       "      <td>2.0</td>\n",
       "      <td>1.0</td>\n",
       "    </tr>\n",
       "    <tr>\n",
       "      <th>LP001003</th>\n",
       "      <td>4583.0</td>\n",
       "      <td>1508.0</td>\n",
       "      <td>128.0</td>\n",
       "      <td>360.0</td>\n",
       "      <td>1.0</td>\n",
       "      <td>0.0</td>\n",
       "      <td>0.0</td>\n",
       "      <td>1.0</td>\n",
       "      <td>0.0</td>\n",
       "      <td>0.0</td>\n",
       "    </tr>\n",
       "    <tr>\n",
       "      <th>LP001005</th>\n",
       "      <td>3000.0</td>\n",
       "      <td>0.0</td>\n",
       "      <td>66.0</td>\n",
       "      <td>360.0</td>\n",
       "      <td>0.0</td>\n",
       "      <td>0.0</td>\n",
       "      <td>1.0</td>\n",
       "      <td>1.0</td>\n",
       "      <td>2.0</td>\n",
       "      <td>1.0</td>\n",
       "    </tr>\n",
       "    <tr>\n",
       "      <th>LP001006</th>\n",
       "      <td>2583.0</td>\n",
       "      <td>2358.0</td>\n",
       "      <td>120.0</td>\n",
       "      <td>360.0</td>\n",
       "      <td>0.0</td>\n",
       "      <td>1.0</td>\n",
       "      <td>0.0</td>\n",
       "      <td>1.0</td>\n",
       "      <td>2.0</td>\n",
       "      <td>1.0</td>\n",
       "    </tr>\n",
       "    <tr>\n",
       "      <th>LP001008</th>\n",
       "      <td>6000.0</td>\n",
       "      <td>0.0</td>\n",
       "      <td>141.0</td>\n",
       "      <td>360.0</td>\n",
       "      <td>0.0</td>\n",
       "      <td>0.0</td>\n",
       "      <td>0.0</td>\n",
       "      <td>1.0</td>\n",
       "      <td>2.0</td>\n",
       "      <td>1.0</td>\n",
       "    </tr>\n",
       "  </tbody>\n",
       "</table>\n",
       "</div>"
      ],
      "text/plain": [
       "          ApplicantIncome  CoapplicantIncome  LoanAmount  Loan_Amount_Term  \\\n",
       "Loan_ID                                                                      \n",
       "LP001002           5849.0                0.0       150.0             360.0   \n",
       "LP001003           4583.0             1508.0       128.0             360.0   \n",
       "LP001005           3000.0                0.0        66.0             360.0   \n",
       "LP001006           2583.0             2358.0       120.0             360.0   \n",
       "LP001008           6000.0                0.0       141.0             360.0   \n",
       "\n",
       "          Dependents  Education  Self_Employed  Credit_History  Property_Area  \\\n",
       "Loan_ID                                                                         \n",
       "LP001002         0.0        0.0            0.0             1.0            2.0   \n",
       "LP001003         1.0        0.0            0.0             1.0            0.0   \n",
       "LP001005         0.0        0.0            1.0             1.0            2.0   \n",
       "LP001006         0.0        1.0            0.0             1.0            2.0   \n",
       "LP001008         0.0        0.0            0.0             1.0            2.0   \n",
       "\n",
       "          Loan_Status  \n",
       "Loan_ID                \n",
       "LP001002          1.0  \n",
       "LP001003          0.0  \n",
       "LP001005          1.0  \n",
       "LP001006          1.0  \n",
       "LP001008          1.0  "
      ]
     },
     "execution_count": 35,
     "metadata": {},
     "output_type": "execute_result"
    }
   ],
   "source": [
    "loan_dataset.head()"
   ]
  },
  {
   "cell_type": "markdown",
   "id": "2e02166d-de21-44cf-bcb7-4ef6b21a4bd9",
   "metadata": {},
   "source": [
    "So that's it for **feature engineering**. ✔\n",
    "\n",
    "#### Feature Scaling\n",
    "---\n",
    "\n",
    "Next is the feature scaling. **Feature scaling** is a method used to normalize the range of independent variables or features of data. There would be no need to scale any of the feature columns, so leaving them as they are is perfect.\n",
    "\n",
    "We'll therefore skip the feature scaling. ✔\n",
    "\n",
    "> **🛠**: Create a pipeline using scikit-learn, that translates the dataset from its initial form when we read it into memory to the current form we have now. (Tips: remember to apply linear regression to fill the missing loan amounts and make use of the ColumnTransformer. Also instead of making use of the forward fill, use the scikit-learn imputer `sklearn.impute.SimpleImputer`)\n",
    "\n",
    "Next on our checklist is Shortlisting a model; But before we proceed to that, we'll then address the data and its target. The `Loan_Status` column is what we hope to predict."
   ]
  },
  {
   "cell_type": "code",
   "execution_count": 36,
   "id": "321bb7e1-6f6c-4732-9614-91a1cd2599c1",
   "metadata": {},
   "outputs": [],
   "source": [
    "target_column = 'Loan_Status'\n",
    "\n",
    "target = loan_dataset[target_column]\n",
    "data = loan_dataset.drop(target_column, axis=1)"
   ]
  },
  {
   "cell_type": "markdown",
   "id": "b049e0e0-3c38-4685-b791-e6528910ee7a",
   "metadata": {},
   "source": [
    "Now that we've successfully addressed our dataset (by splitting it into the data and target). We then proceed to split the data into the train, dev (cross-validation), and test set.\n",
    "\n",
    "To split the dataset, we would be making use of the SciKit-Learn `train_test_split` function. The dataset has 614 rows, having about 114 rows for testing, and 600 rows for training is good enough. So let's proceed to split the dataset."
   ]
  },
  {
   "cell_type": "code",
   "execution_count": 37,
   "id": "9e9b2f20-676d-463a-be67-aa1326db09a7",
   "metadata": {},
   "outputs": [],
   "source": [
    "from sklearn.model_selection import train_test_split"
   ]
  },
  {
   "cell_type": "code",
   "execution_count": 38,
   "id": "8d2a558f-6e95-477e-a68b-3e3eda7874e3",
   "metadata": {},
   "outputs": [],
   "source": [
    "X_train, X_test, y_train, y_test = train_test_split(data, target, test_size=.1857, random_state=42)"
   ]
  },
  {
   "cell_type": "code",
   "execution_count": 39,
   "id": "9ec7d91a-544d-41bc-8ead-75cdfbd08ad6",
   "metadata": {},
   "outputs": [
    {
     "data": {
      "text/plain": [
       "((499,), (115,))"
      ]
     },
     "execution_count": 39,
     "metadata": {},
     "output_type": "execute_result"
    }
   ],
   "source": [
    "y_train.shape, y_test.shape"
   ]
  },
  {
   "cell_type": "markdown",
   "id": "60da71ac-cd51-4472-8812-61f769df6b4e",
   "metadata": {},
   "source": [
    "#### Shortlisting Promising Models\n",
    "---\n",
    "\n",
    "We have 499 training data and 115 testing data. With that set in place, we can thus proceed to shortlisting models for our experiment. We would be electing four (4) models which would be:\n",
    "\n",
    "1. Logistic Regression\n",
    "2. Random Forest Classifier\n",
    "3. KNN Classifier\n",
    "4. Support Vector Classifier\n",
    "5. XGBoost Classifier\n",
    "6. Decision Tree Classifier"
   ]
  },
  {
   "cell_type": "code",
   "execution_count": 40,
   "id": "b3a85292-e8b9-4375-8253-a1e23cf780b5",
   "metadata": {},
   "outputs": [],
   "source": [
    "from xgboost import XGBClassifier\n",
    "\n",
    "from sklearn.svm import SVC\n",
    "from sklearn.tree import DecisionTreeClassifier\n",
    "from sklearn.neighbors import KNeighborsClassifier\n",
    "from sklearn.linear_model import LogisticRegression\n",
    "from sklearn.ensemble import RandomForestClassifier"
   ]
  },
  {
   "cell_type": "markdown",
   "id": "aeb8648f-2e2a-44de-9b66-d3b62af7f130",
   "metadata": {},
   "source": [
    "> **📖**: Now that we've shortlisted these models, we'll be performing a series of actions to check for the model performance before we select a model for our task. The process is called Model Selection. I wrote an article on the [Steps Involved in Selecting a Model](https://gmolalekan.medium.com/steps-involved-in-selecting-a-model-model-selection-bd7aaffbec4f) which should better explain most of what I did below."
   ]
  },
  {
   "cell_type": "code",
   "execution_count": 41,
   "id": "9c4f31a0-babd-4b05-a02b-1d48a64279c5",
   "metadata": {},
   "outputs": [],
   "source": [
    "import time, pickle\n",
    "\n",
    "from sklearn.model_selection import cross_val_score"
   ]
  },
  {
   "cell_type": "code",
   "execution_count": 42,
   "id": "0e0f93d6-273f-4c27-9233-94191c663365",
   "metadata": {},
   "outputs": [],
   "source": [
    "def perform_model_evaluation(\n",
    "    verbose=True, time_tracker=True, peep_on_performance=True, \n",
    "    save_progress=True, progress_on_record=None, **kwargs\n",
    "):\n",
    "    \"\"\"\n",
    "    Performs evaluation on the various imputed models\n",
    "    \n",
    "    This is a pretty large function tarloyed to this\n",
    "    task. \n",
    "    \n",
    "    It has a bunch of parameters to help monitor\n",
    "    the activities going on within the function\n",
    "    \n",
    "    verbose: Gives us details about the steps we are \n",
    "            on and the progress we're making. If True\n",
    "    time_tracker: Tracks the time each model evaluation\n",
    "            takes. If True\n",
    "    peep_on_performance: Presents model performance at\n",
    "            certain stages. If True\n",
    "    save_progress: Saves the progress on evaluation to\n",
    "            data/record.p at the end of each model evaluation.\n",
    "            If True\n",
    "    progress_on_record: Takes an already made progress\n",
    "            and proceeds from that. If provided.\n",
    "            File location in str needs to be provided.\n",
    "    **kwargs: Other variables which would be essential\n",
    "            to the operation of the function. They\n",
    "            include: model_names, X_train, X_val,\n",
    "                y_train, y_val, models, param_grid\n",
    "    \"\"\"\n",
    "    \n",
    "    # Variables downloading\n",
    "    model_names = kwargs['model_names']\n",
    "    X_train = kwargs['X_train']\n",
    "    y_train = kwargs['y_train']\n",
    "    models = kwargs['models']\n",
    "    \n",
    "    # Subroutine for time tracking\n",
    "    def cal_time_in_mins(start, _end, process, sep=\",\", end=f\"\\n{'+'*120}\\n\\n\"):\n",
    "        if time_tracker:\n",
    "            total_time_in_sec = round(_end - start)\n",
    "            mins = total_time_in_sec // 60\n",
    "            sec = total_time_in_sec % 60\n",
    "            print(f\"{process} ran for: {mins} mins, {sec} sec\", sep=sep, end=end)\n",
    "            \n",
    "    # Subroutine for verbose messages\n",
    "    def verbose_message(message, sep=\",\", end=f\"\\n{'-'*120}\\n\\n\"):\n",
    "        if verbose:\n",
    "            print(message, sep=sep, end=end)\n",
    "    \n",
    "    # Subroutine to save progress\n",
    "    def preform_progress_saving(r):\n",
    "        if save_progress:\n",
    "            pickle.dump(r, open(\"data/record_c.p\", 'wb'))\n",
    "    \n",
    "    # Wrapper for estimating the time for a process\n",
    "    def time_estimator_wrapper(function):\n",
    "        \n",
    "        def wrapper(*args):\n",
    "            start = time.time()\n",
    "            results = function(*args)\n",
    "            end = time.time()\n",
    "            \n",
    "            cal_time_in_mins(start, end, \"Performance Process\")\n",
    "\n",
    "            return results\n",
    "        \n",
    "        return wrapper\n",
    "    \n",
    "    # Function to perform cross validation\n",
    "    @time_estimator_wrapper\n",
    "    def perform_cross_val(_m, message):\n",
    "        cv_scores = cross_val_score(\n",
    "            _m(), X_train, y_train,  cv=5, n_jobs=-1,\n",
    "            scoring='accuracy'\n",
    "        )\n",
    "        \n",
    "        verbose_message(message)\n",
    "        \n",
    "        return cv_scores, cv_scores.mean()\n",
    "    \n",
    "    # Initializes record\n",
    "    if progress_on_record is None:\n",
    "        record = {name: {} for name in model_names}\n",
    "        verbose_message(\"Initialized a new record\")\n",
    "    else:\n",
    "        record = pickle.load(open(progress_on_record, 'rb'))\n",
    "        verbose_message(\"Initialized existing record\")\n",
    "    \n",
    "    verbose_message(\"Starting the models evaluation\")\n",
    "    \n",
    "    overall_program_start = time.time()\n",
    "    \n",
    "    # Proceeding with model evaluations\n",
    "    for name, model in zip(model_names, models):\n",
    "        if not bool(record[name]):\n",
    "            cvs, cvsm = perform_cross_val(\n",
    "                model,\n",
    "                f\"Done performing cross validation for {name}\"\n",
    "            )\n",
    "\n",
    "            if peep_on_performance:\n",
    "                print(\"Model Performance\", name, cvsm, end=f\"\\n{'*'*120}\\n\\n\")\n",
    "\n",
    "            record[name]['cross val score'] = cvs\n",
    "            record[name]['cross val score mean'] = cvsm\n",
    "\n",
    "            preform_progress_saving(record)\n",
    "    \n",
    "    overall_program_end = time.time()\n",
    "    \n",
    "    cal_time_in_mins(overall_program_start, overall_program_end, \"Program time\")\n",
    "    \n",
    "    preform_progress_saving(record)\n",
    "    \n",
    "    return record"
   ]
  },
  {
   "cell_type": "markdown",
   "id": "9afa0e2f-0eab-4dd1-8cf5-fe1b020cdf57",
   "metadata": {},
   "source": [
    "> **⁉**: In our function above, we excluded making use of the grid search cross-validation. Why do you think we did this?\n",
    "\n",
    "> **🛠**: From our regression task, you were asked to convert the function above to its OOP equivalent. This time adjust your configurations to be able to cross-validate for both regression and classification tasks. (Tips: apply `neg_mean_absolute_error` scoring for regression tasks and `accuracy` scoring for classification tasks) (Advanced: create an algorithm that can automatically determine a regression from a classification task)"
   ]
  },
  {
   "cell_type": "code",
   "execution_count": 43,
   "id": "2b358596-49a0-49c4-9861-20fa204a9993",
   "metadata": {},
   "outputs": [],
   "source": [
    "models = [\n",
    "    LogisticRegression, KNeighborsClassifier, DecisionTreeClassifier, \n",
    "    SVC, RandomForestClassifier, XGBClassifier\n",
    "]"
   ]
  },
  {
   "cell_type": "code",
   "execution_count": 44,
   "id": "5a20c128-a54c-40b1-b8d5-c1f9f3f5869a",
   "metadata": {},
   "outputs": [],
   "source": [
    "model_names = [\n",
    "    'Logistic Regression', 'K-Neighbor Classifier', 'Decision Tree Classifier', \n",
    "    'Support Vector Classifier', 'Random Forest Classifier', 'XGBoost Classifier'\n",
    "]"
   ]
  },
  {
   "cell_type": "code",
   "execution_count": 45,
   "id": "aba48489-9984-48f3-85c6-e196c9736ed3",
   "metadata": {},
   "outputs": [
    {
     "name": "stdout",
     "output_type": "stream",
     "text": [
      "Initialized a new record\n",
      "------------------------------------------------------------------------------------------------------------------------\n",
      "\n",
      "Starting the models evaluation\n",
      "------------------------------------------------------------------------------------------------------------------------\n",
      "\n",
      "Done performing cross validation for Logistic Regression\n",
      "------------------------------------------------------------------------------------------------------------------------\n",
      "\n",
      "Performance Process ran for: 0 mins, 5 sec\n",
      "++++++++++++++++++++++++++++++++++++++++++++++++++++++++++++++++++++++++++++++++++++++++++++++++++++++++++++++++++++++++\n",
      "\n",
      "Model Performance Logistic Regression 0.8055353535353534\n",
      "************************************************************************************************************************\n",
      "\n",
      "Done performing cross validation for K-Neighbor Classifier\n",
      "------------------------------------------------------------------------------------------------------------------------\n",
      "\n",
      "Performance Process ran for: 0 mins, 0 sec\n",
      "++++++++++++++++++++++++++++++++++++++++++++++++++++++++++++++++++++++++++++++++++++++++++++++++++++++++++++++++++++++++\n",
      "\n",
      "Model Performance K-Neighbor Classifier 0.6373737373737374\n",
      "************************************************************************************************************************\n",
      "\n",
      "Done performing cross validation for Decision Tree Classifier\n",
      "------------------------------------------------------------------------------------------------------------------------\n",
      "\n",
      "Performance Process ran for: 0 mins, 0 sec\n",
      "++++++++++++++++++++++++++++++++++++++++++++++++++++++++++++++++++++++++++++++++++++++++++++++++++++++++++++++++++++++++\n",
      "\n",
      "Model Performance Decision Tree Classifier 0.7174949494949494\n",
      "************************************************************************************************************************\n",
      "\n",
      "Done performing cross validation for Support Vector Classifier\n",
      "------------------------------------------------------------------------------------------------------------------------\n",
      "\n",
      "Performance Process ran for: 0 mins, 0 sec\n",
      "++++++++++++++++++++++++++++++++++++++++++++++++++++++++++++++++++++++++++++++++++++++++++++++++++++++++++++++++++++++++\n",
      "\n",
      "Model Performance Support Vector Classifier 0.6953939393939395\n",
      "************************************************************************************************************************\n",
      "\n",
      "Done performing cross validation for Random Forest Classifier\n",
      "------------------------------------------------------------------------------------------------------------------------\n",
      "\n",
      "Performance Process ran for: 0 mins, 1 sec\n",
      "++++++++++++++++++++++++++++++++++++++++++++++++++++++++++++++++++++++++++++++++++++++++++++++++++++++++++++++++++++++++\n",
      "\n",
      "Model Performance Random Forest Classifier 0.7935353535353535\n",
      "************************************************************************************************************************\n",
      "\n",
      "Done performing cross validation for XGBoost Classifier\n",
      "------------------------------------------------------------------------------------------------------------------------\n",
      "\n",
      "Performance Process ran for: 0 mins, 1 sec\n",
      "++++++++++++++++++++++++++++++++++++++++++++++++++++++++++++++++++++++++++++++++++++++++++++++++++++++++++++++++++++++++\n",
      "\n",
      "Model Performance XGBoost Classifier 0.7395353535353536\n",
      "************************************************************************************************************************\n",
      "\n",
      "Program time ran for: 0 mins, 7 sec\n",
      "++++++++++++++++++++++++++++++++++++++++++++++++++++++++++++++++++++++++++++++++++++++++++++++++++++++++++++++++++++++++\n",
      "\n"
     ]
    }
   ],
   "source": [
    "record = perform_model_evaluation(\n",
    "    X_train=X_train, y_train=y_train, \n",
    "    models=models, model_names=model_names\n",
    ")"
   ]
  },
  {
   "cell_type": "code",
   "execution_count": 46,
   "id": "ff15e8d4-9eb2-4525-be1a-31a73615fded",
   "metadata": {},
   "outputs": [],
   "source": [
    "# Uncomment the code below if you already \n",
    "# started the program but stopped for a reason.\n",
    "\n",
    "# record = perform_model_evaluation(\n",
    "#     X_train=X_train,y_train=y_train,\n",
    "#     models=models, model_names=model_names,\n",
    "#     progress_on_record=\"data/record_c.p\"\n",
    "# )"
   ]
  },
  {
   "cell_type": "markdown",
   "id": "ae22fadc-750d-48bb-a6a0-6c8d3b051131",
   "metadata": {},
   "source": [
    "After the overview, two models performed best first is the logistic regression, having an average accuracy score of approximately 81%, and the random forest classifier, having an average accuracy score of approximately 79%.\n",
    "\n",
    "Let's proceed to find out more about the model performance on each fold"
   ]
  },
  {
   "cell_type": "code",
   "execution_count": 47,
   "id": "78aa8645-994f-4b81-bef6-27f65e4fcbc0",
   "metadata": {},
   "outputs": [
    {
     "name": "stdout",
     "output_type": "stream",
     "text": [
      "Logistic Regression | {'cross val score': array([0.82      , 0.82      , 0.82      , 0.8       , 0.76767677]), 'cross val score mean': 0.8055353535353534}\n",
      "\n",
      "K-Neighbor Classifier | {'cross val score': array([0.56      , 0.63      , 0.65      , 0.66      , 0.68686869]), 'cross val score mean': 0.6373737373737374}\n",
      "\n",
      "Decision Tree Classifier | {'cross val score': array([0.68      , 0.74      , 0.66      , 0.76      , 0.74747475]), 'cross val score mean': 0.7174949494949494}\n",
      "\n",
      "Support Vector Classifier | {'cross val score': array([0.7      , 0.69     , 0.69     , 0.7      , 0.6969697]), 'cross val score mean': 0.6953939393939395}\n",
      "\n",
      "Random Forest Classifier | {'cross val score': array([0.85      , 0.77      , 0.78      , 0.8       , 0.76767677]), 'cross val score mean': 0.7935353535353535}\n",
      "\n",
      "XGBoost Classifier | {'cross val score': array([0.72      , 0.77      , 0.71      , 0.73      , 0.76767677]), 'cross val score mean': 0.7395353535353536}\n",
      "\n"
     ]
    }
   ],
   "source": [
    "for r in record:\n",
    "    print(r, record[r], sep=\" | \", end=\"\\n\\n\")"
   ]
  },
  {
   "cell_type": "markdown",
   "id": "6c1d1e55-ebef-4bff-81d4-1ac5266c1a17",
   "metadata": {},
   "source": [
    "The logistic regression model has a fluid performance across each fold (except the last fold) which tips it to be the best model and it generalizes well. The random forest model also did its best but falls second to the logistic regression.\n",
    "\n",
    "Therefore, we'll be selecting the logistic regression and random forest classifier models. ✔\n",
    "\n",
    "Let's not get too ahead of ourselves; we haven't talked about the various classification metrics that sklearn provides. We'll be looking into the four (4) main classification metrics:\n",
    "\n",
    "1. Accuracy\n",
    "2. Precision\n",
    "3. Recall\n",
    "4. F1 score"
   ]
  },
  {
   "cell_type": "markdown",
   "id": "a2561b34-587e-4c2a-bf62-cd9a7765da54",
   "metadata": {},
   "source": [
    "##### **Confusion Matrix**\n",
    "\n",
    "In order to fully understand how these metrics work we need to understand what a confusion matrix is: A confusion matrix is a table that is often used to describe the performance of a classification model (or \"classifier\") on a set of test data for which the true values are known.\n",
    "\n",
    "<p style=\"text-align: center\"><img alt=\"Confusion Matrix\" src=\"images/confusion_matrix.png\" /></p>\n",
    "\n",
    "The confusion matrix itself is relatively simple to understand, but the related terminology can be confusing. From the diagram above we can see the structure the predicted value assumes to depict the model's understanding (or misunderstanding) of the data (what we refer to as the confusion matrix).\n",
    "\n",
    "**The terminologies**:\n",
    "\n",
    "- TP (True Positive): depict the actual positive values that the model predicted to be positive.\n",
    "- TN (True Negative): depict the actual negative values that the model predicted to be negative.\n",
    "- FP (False Positive): depict the actual positive values that the model predicted to be negative.\n",
    "- FN (False Negative): depict the actual negative values that the model predicted to be positive.\n",
    "\n",
    "In a confusion matrix, we hope to maximize the TP and TN while minimizing the FP and FN. Therefore the more TP and TN we can craft from the data, the better our model performance will be.\n",
    "\n",
    "> **⁉**: What do we say about a model where there are no (zero) FP and FN?\n",
    "\n",
    "It is by these measures we deduce the metrics accuracy, precision, recall, and f1.\n",
    "\n",
    "> **📖**: When running a proper check to see the model's performance on a classification task, it is proper to understand what these metrics do and which would best address the task. [Koo Ping Shung](https://medium.com/@koolanalytics) explained the function of each metric in his article [Accuracy, Precision, Recall or F1?](https://towardsdatascience.com/accuracy-precision-recall-or-f1-331fb37c5cb9).\n",
    "\n",
    "\n",
    "Let's give an overview of the various classification metrics below."
   ]
  },
  {
   "cell_type": "markdown",
   "id": "6439421f-415f-4009-a998-25206a741a0d",
   "metadata": {},
   "source": [
    "##### **Accuracy**\n",
    "\n",
    "**What is Accuracy?** Simply put. Accuracy is the fraction of predictions our model got right. It is depicted by the formula ($\\frac{TP + TN}{TP + TN + FP + FN}$) which is the fraction of the sum of the True Positive and the True Negative over the sum of the total prediction values (the whole dataset)."
   ]
  },
  {
   "cell_type": "markdown",
   "id": "601d3984-d7bc-4e22-bb44-3fa9df840064",
   "metadata": {},
   "source": [
    "##### **Precision**\n",
    "\n",
    "**What is Precision?** Precision is the quality of a positive prediction made by the model. Precision refers to the number of true positives divided by the total number of positive predictions.\n",
    "\n",
    "<p style=\"text-align: center\"><img alt=\"Precision\" src=\"images/precision.png\" /></p>"
   ]
  },
  {
   "cell_type": "markdown",
   "id": "3a36982e-4cfa-4328-9c11-f356d3d04f44",
   "metadata": {},
   "source": [
    "##### **Recall**\n",
    "\n",
    "**What is Recall?** The recall is the measure of our model correctly identifying True Positives. It is also referred to as sensitivity or True Positive Rate (TPR). The recall focuses on how much of the actual positive data were rightly predicted.\n",
    "\n",
    "<p style=\"text-align: center\"><img alt=\"Recall\" src=\"images/recall.png\" /></p>\n",
    "\n",
    "> **📖**: There is a trade-off that exists better the recall and the precision, in that the Recall rate is inversely proportional to the Precision rate. I wrote on the subject on [my kaggle page](https://www.kaggle.com/ganiyuolalekan) on the [Precision-Recall Trade-off](https://www.kaggle.com/ganiyuolalekan/precision-recall-trade-off). It is this balance that the F1 score tries to convey."
   ]
  },
  {
   "cell_type": "markdown",
   "id": "94627fbb-1874-42ef-9751-8cfe1344d67a",
   "metadata": {},
   "source": [
    "##### **F1 Score**\n",
    "\n",
    "**What is the F1 Score?** The F1 score as a metric conveys the balance between precision and recall. F1 Score is needed when you want to seek a balance between Precision and Recall.\n",
    "\n",
    "<p style=\"text-align: center\"><img alt=\"F1 Score\" src=\"images/f1_score.png\" /></p>\n",
    "\n",
    "> **🛠**: We'll be making use of the accuracy metric for this notebook. On your own try evaluating the model on the other classification metrics to document your observations."
   ]
  },
  {
   "cell_type": "markdown",
   "id": "b27ecab5-86f8-4fd4-8065-04ff203e7895",
   "metadata": {},
   "source": [
    "#### Fine-Tuning The Model\n",
    "---\n",
    "\n",
    "We'll be combining both the logistic regression and random forest model to create a new model (a voting classifier) for this task in our attempt to create a fine-tuned model.\n",
    "\n",
    "If you had performed the class activity from the regression class, you would be familiar with the voting regressor. Since we would be combining two (2) models, we would have to fine-tune both models to see how they can be improved. There are 2 ways we can do this:\n",
    "\n",
    "1. We could fine-tune each model individually and combine them to create a new voting classifier\n",
    "2. we could create a voting classifier model and fine-tune the hyper-parameters of the voting classifier.\n",
    "\n",
    "We would use the second technique, we'll start by creating a voting classifier combining both the logistic regression and random forest model, and then fine-tune that model."
   ]
  },
  {
   "cell_type": "code",
   "execution_count": 48,
   "id": "c483dc99-c0fa-424c-8fe3-09c9fa7ed834",
   "metadata": {},
   "outputs": [],
   "source": [
    "from sklearn.ensemble import VotingClassifier"
   ]
  },
  {
   "cell_type": "code",
   "execution_count": 49,
   "id": "3179422e-2c38-4b28-b51d-2e91c6792b7c",
   "metadata": {},
   "outputs": [],
   "source": [
    "model = VotingClassifier(\n",
    "    estimators=[('lr', LogisticRegression(max_iter=1000)), ('rfc', RandomForestClassifier())],\n",
    "    voting='soft'\n",
    ")"
   ]
  },
  {
   "cell_type": "code",
   "execution_count": 50,
   "id": "8bbec754-b693-4cca-8066-3efe7f0837f0",
   "metadata": {},
   "outputs": [
    {
     "data": {
      "text/plain": [
       "array([0.83      , 0.82      , 0.81      , 0.79      , 0.76767677])"
      ]
     },
     "execution_count": 50,
     "metadata": {},
     "output_type": "execute_result"
    }
   ],
   "source": [
    "scores = cross_val_score(model, X_train, y_train, cv=5, n_jobs=-1, scoring='accuracy')\n",
    "scores"
   ]
  },
  {
   "cell_type": "code",
   "execution_count": 51,
   "id": "3fc8d902-e600-4b57-a9a0-7d4dced2819c",
   "metadata": {},
   "outputs": [
    {
     "data": {
      "text/plain": [
       "0.8035353535353534"
      ]
     },
     "execution_count": 51,
     "metadata": {},
     "output_type": "execute_result"
    }
   ],
   "source": [
    "scores.mean()"
   ]
  },
  {
   "cell_type": "markdown",
   "id": "585307d4-ea54-40d8-9cff-3b3b089206ee",
   "metadata": {},
   "source": [
    "Performing simple cross-validation on the model, we can see that it performs almost as well as the logistic regression model and slightly better than the random forest model. Makes sense for us to see something like this as the model is combining the performance of both models.\n",
    "\n",
    "Let's head on to properly searching out hyper-parameters for the model. Before fine-tuning a model it is essential to know a lot about the model hyper-parameters. Knowing that would be extremely essential to determining the values of hyper-parameter by hand, or those that should be filtered to get the best result using a grid search.\n",
    "\n",
    "We would be looking at the hyper-parameters of both the logistic regression and random forest classifier."
   ]
  },
  {
   "cell_type": "markdown",
   "id": "b8497a70-8c5a-4717-8b1c-db023a82079d",
   "metadata": {},
   "source": [
    "##### **Logistic Regression**\n",
    "\n",
    "Logistic regression does not really have any critical hyper-parameters to tune. Sometimes, you can see useful differences in performance or convergence with different solvers (solvers). Regularization (penalty) can sometimes be helpful.\n",
    "\n",
    "- `max_iter`: is the maximum number of iterations the model can perform before convergence.\n",
    "- `solver`: is the algorithm to use for optimization by convergence monitoring.\n",
    "- `C`: controls the penalty strength, which can also be effective.\n",
    "- `penalty`: regularization penalty.\n",
    "\n",
    "We would set the value of `1000` for the `max_iter` since it doesn't need to be a very large value. Just one that the model would have most likely converged before reaching. We would also try the different kinds of solvers, control penalties, and regularization penalties that we could in accordance with the [Scikit-Learn API](https://scikit-learn.org/stable/modules/generated/sklearn.linear_model.LogisticRegression.html)."
   ]
  },
  {
   "cell_type": "markdown",
   "id": "7ee89b73-7cd5-4dff-ba5f-392c5326840a",
   "metadata": {},
   "source": [
    "##### **Random Forest Classifier**\n",
    "\n",
    "Random Forest is nothing but a bagged version of decision trees. What this means (implies), is that random forest is an ensemble (collection) of decision tree models merged together to make predictions on data. Random forest achieves a lower test error solely by variance reduction. Therefore increasing the number of trees in the ensemble won't have any effect on the bias of the model. The higher number of trees will only reduce the variance of your model.\n",
    "\n",
    "Let's look into the various hyper-parameter considerations, tips and tricks of the random forest models. \n",
    "\n",
    "> **📖**: I would be taking my notes directly from [z_ai](https://z-ai.medium.com/) in their article [Random Forest: Hyperparameters and how to fine-tune them](https://towardsdatascience.com/random-forest-hyperparameters-and-how-to-fine-tune-them-17aee785ee0d).\n",
    "\n",
    "- The **Nº of Decision Trees** in the forest (in Scikit-learn this parameter is called n_estimators)\n",
    "- The **criteria** with which to split on each node (Gini or Entropy for a classification task, or the MSE or MAE for regression)\n",
    "- The **maximum depth** of the individual trees. The larger an individual tree, the more chance it has of overfitting the training data, however, as in Random Forests we have many individual trees, this is not such a big problem.\n",
    "- The **minimum samples** to split on at an internal node of the trees. Playing with this parameter and the previous one we could regularise the individual trees if needed.\n",
    "- **The maximum number of leaf nodes**. In Random Forest this is not so important, but in an individual Decision Tree, it can greatly help reduce over-fitting as well and also help increase the explainability of the tree by reducing the possible number of paths to leaf nodes. Learn how to use Decision Trees to build explainable ML models here.\n",
    "- **The number of random features** to include at each node for splitting.\n",
    "- **The size of the bootstrapped dataset** to train each Decision Tree with.\n",
    "\n",
    "Fine-tuning the **number of trees** (Nº of Decision Trees) is unnecessary because the secret to selecting a precise number of estimators is by evaluating the dataset to estimate the number of trees that would create a robust model with less variance and low cost of training time. Given our data size, I would an estimators of the value `50` is good enough, knowing that the overall dataset isn't so large\n",
    "\n",
    "For the criterion, the would make use of grid search to decide between `gini`, and `entropy`. We try this because fine tuning the split criteria could lead to different forests.\n",
    "\n",
    "Increasing the depth of individual trees increases the possible number of feature/value combinations that are taken into account. The deeper the tree, the more splits it has and the more information about the data it takes into account. It may not be prone to over-fitting because it's an ensemble model but it is still possible to have large depth values. Picking values within the **range of 4 to 7** should be adequate for the model.\n",
    "\n",
    "The number of random features to consider at each split is one of the most important hyper-parameters to tune in a Random Forest ensemble. Since we're working on a regression task we would be using the values `[None, sqrt, .2, .3, .4]` to allow the random forest to take all the features of your data, 20%, 30%, and 40% of variables in individual split respectively.\n",
    "\n",
    "Let's try out these values in a grid search and measure how much our model would evolve on the dataset."
   ]
  },
  {
   "cell_type": "code",
   "execution_count": 52,
   "id": "4bd76b95-d62d-4bd6-ab8e-223fbcd5b672",
   "metadata": {},
   "outputs": [],
   "source": [
    "from sklearn.model_selection import GridSearchCV"
   ]
  },
  {
   "cell_type": "code",
   "execution_count": 53,
   "id": "5ecfcd29-d308-4312-82f4-ea518f66fb04",
   "metadata": {},
   "outputs": [],
   "source": [
    "param_grid = {\n",
    "    # Logistic Regression hyper-parameters\n",
    "    'lr__max_iter': [1000],\n",
    "    'lr__solver': ['newton-cg', 'lbfgs', 'liblinear', 'sag', 'saga'],\n",
    "    'lr__penalty': ['none', 'l1', 'l2', 'elasticnet'],\n",
    "    'lr__C': [100, 10, 1.0, 0.1, 0.01],\n",
    "    \n",
    "    # Random Forest Classifier hyper-parameters\n",
    "    'rfc__n_estimators': [50],\n",
    "    'rfc__max_depth': range(4, 8),\n",
    "    'rfc__max_features': [None, 'sqrt', .2, .3, .4]\n",
    "}"
   ]
  },
  {
   "cell_type": "code",
   "execution_count": 54,
   "id": "f86ab122-3525-4d31-a78d-08f032e5c5e7",
   "metadata": {},
   "outputs": [],
   "source": [
    "grid_search = GridSearchCV(model, param_grid=param_grid, scoring='accuracy', n_jobs=-1, cv=5, verbose=3)"
   ]
  },
  {
   "cell_type": "code",
   "execution_count": 55,
   "id": "4c2db612-2277-4a31-aa55-66d7610201e1",
   "metadata": {},
   "outputs": [
    {
     "name": "stdout",
     "output_type": "stream",
     "text": [
      "Fitting 5 folds for each of 2000 candidates, totalling 10000 fits\n"
     ]
    },
    {
     "name": "stderr",
     "output_type": "stream",
     "text": [
      "C:\\Users\\ganiy\\anaconda3\\lib\\site-packages\\sklearn\\model_selection\\_search.py:918: UserWarning: One or more of the test scores are non-finite: [0.80353535 0.80353535 0.80353535 ...        nan        nan        nan]\n",
      "  warnings.warn(\n"
     ]
    },
    {
     "data": {
      "text/plain": [
       "GridSearchCV(cv=5,\n",
       "             estimator=VotingClassifier(estimators=[('lr',\n",
       "                                                     LogisticRegression(max_iter=1000)),\n",
       "                                                    ('rfc',\n",
       "                                                     RandomForestClassifier())],\n",
       "                                        voting='soft'),\n",
       "             n_jobs=-1,\n",
       "             param_grid={'lr__C': [100, 10, 1.0, 0.1, 0.01],\n",
       "                         'lr__max_iter': [1000],\n",
       "                         'lr__penalty': ['none', 'l1', 'l2', 'elasticnet'],\n",
       "                         'lr__solver': ['newton-cg', 'lbfgs', 'liblinear',\n",
       "                                        'sag', 'saga'],\n",
       "                         'rfc__max_depth': range(4, 8),\n",
       "                         'rfc__max_features': [None, 'sqrt', 0.2, 0.3, 0.4],\n",
       "                         'rfc__n_estimators': [50]},\n",
       "             scoring='accuracy', verbose=3)"
      ]
     },
     "execution_count": 55,
     "metadata": {},
     "output_type": "execute_result"
    }
   ],
   "source": [
    "grid_search.fit(X_train, y_train)"
   ]
  },
  {
   "cell_type": "markdown",
   "id": "833cc4da-6650-4562-91ae-aba648edc523",
   "metadata": {},
   "source": [
    "> **Note**: I could afford to do this because our dataset is very small the models process pretty quickly. DO NOT attempt this on larger dataset, it wouldn't be funny 😅."
   ]
  },
  {
   "cell_type": "code",
   "execution_count": 56,
   "id": "695dd5d3-773d-4d8e-8f7f-32a4691bac8d",
   "metadata": {},
   "outputs": [
    {
     "data": {
      "text/plain": [
       "{'lr__C': 10,\n",
       " 'lr__max_iter': 1000,\n",
       " 'lr__penalty': 'l2',\n",
       " 'lr__solver': 'lbfgs',\n",
       " 'rfc__max_depth': 6,\n",
       " 'rfc__max_features': None,\n",
       " 'rfc__n_estimators': 50}"
      ]
     },
     "execution_count": 56,
     "metadata": {},
     "output_type": "execute_result"
    }
   ],
   "source": [
    "grid_search.best_params_"
   ]
  },
  {
   "cell_type": "code",
   "execution_count": 57,
   "id": "3cb05ed2-4128-4b68-930c-7a84387b3493",
   "metadata": {},
   "outputs": [],
   "source": [
    "final_model = grid_search.best_estimator_"
   ]
  },
  {
   "cell_type": "code",
   "execution_count": 58,
   "id": "b8bc22f2-846c-4bda-8c88-9aa995699675",
   "metadata": {},
   "outputs": [
    {
     "data": {
      "text/plain": [
       "array([0.83      , 0.82      , 0.81      , 0.8       , 0.76767677])"
      ]
     },
     "execution_count": 58,
     "metadata": {},
     "output_type": "execute_result"
    }
   ],
   "source": [
    "scores = cross_val_score(final_model, X_train, y_train, cv=5, n_jobs=-1, scoring='accuracy')\n",
    "scores"
   ]
  },
  {
   "cell_type": "code",
   "execution_count": 59,
   "id": "74ff9dc1-2194-4eeb-8a1f-b982f2ae6084",
   "metadata": {},
   "outputs": [
    {
     "data": {
      "text/plain": [
       "0.8055353535353534"
      ]
     },
     "execution_count": 59,
     "metadata": {},
     "output_type": "execute_result"
    }
   ],
   "source": [
    "scores.mean()"
   ]
  },
  {
   "cell_type": "markdown",
   "id": "e79c679c-f407-4d1f-87fe-8ec46d056704",
   "metadata": {},
   "source": [
    "Alright, there doesn't seem to be much of a difference; so let's try out our final model on the test data."
   ]
  },
  {
   "cell_type": "code",
   "execution_count": 60,
   "id": "0871a426-f5e3-4bcc-8be4-5addb533eb55",
   "metadata": {},
   "outputs": [
    {
     "data": {
      "text/plain": [
       "VotingClassifier(estimators=[('lr', LogisticRegression(C=10, max_iter=1000)),\n",
       "                             ('rfc',\n",
       "                              RandomForestClassifier(max_depth=6,\n",
       "                                                     max_features=None,\n",
       "                                                     n_estimators=50))],\n",
       "                 voting='soft')"
      ]
     },
     "execution_count": 60,
     "metadata": {},
     "output_type": "execute_result"
    }
   ],
   "source": [
    "final_model.fit(X_train, y_train)"
   ]
  },
  {
   "cell_type": "code",
   "execution_count": 61,
   "id": "b5ba1dc3-468a-4033-b947-850e8b0896e4",
   "metadata": {},
   "outputs": [],
   "source": [
    "predictions = final_model.predict(X_test)"
   ]
  },
  {
   "cell_type": "markdown",
   "id": "c52cc733-9b3c-4658-9ac3-b17d7dc73ec0",
   "metadata": {},
   "source": [
    "We'll be evaluating the model's final performance across the accuracy, precision, and recall metrics to see the accuracy, precision, and recall rate of our model."
   ]
  },
  {
   "cell_type": "code",
   "execution_count": 62,
   "id": "d76cc0d9-35aa-4185-8c68-fa8f7f941297",
   "metadata": {},
   "outputs": [],
   "source": [
    "from sklearn.metrics import accuracy_score, precision_score, recall_score, precision_recall_curve"
   ]
  },
  {
   "cell_type": "code",
   "execution_count": 63,
   "id": "b767bd04-f262-498c-9229-b20b7bde8c47",
   "metadata": {},
   "outputs": [
    {
     "data": {
      "text/plain": [
       "0.8"
      ]
     },
     "execution_count": 63,
     "metadata": {},
     "output_type": "execute_result"
    }
   ],
   "source": [
    "accuracy_score(y_test, predictions)"
   ]
  },
  {
   "cell_type": "code",
   "execution_count": 64,
   "id": "22febfb6-94be-4c22-8b10-131993f2b30d",
   "metadata": {},
   "outputs": [
    {
     "data": {
      "text/plain": [
       "0.7717391304347826"
      ]
     },
     "execution_count": 64,
     "metadata": {},
     "output_type": "execute_result"
    }
   ],
   "source": [
    "precision_score(y_test, predictions)"
   ]
  },
  {
   "cell_type": "code",
   "execution_count": 65,
   "id": "4cc04ab7-8caf-48c5-8f29-c73b0ab1bca3",
   "metadata": {},
   "outputs": [
    {
     "data": {
      "text/plain": [
       "0.9726027397260274"
      ]
     },
     "execution_count": 65,
     "metadata": {},
     "output_type": "execute_result"
    }
   ],
   "source": [
    "recall_score(y_test, predictions)"
   ]
  },
  {
   "cell_type": "markdown",
   "id": "fd7f3407-3d1b-4763-9d93-8264b79bec45",
   "metadata": {},
   "source": [
    "Our model has an 80.87% accuracy, 77.42% precision, and 98.63% recall. This is pretty decent given it has never seen this new data. Let's quickly observe the relationship that exists between precision and recall."
   ]
  },
  {
   "cell_type": "code",
   "execution_count": 66,
   "id": "b391a887-6aeb-4eb2-b30c-f53693e7446a",
   "metadata": {},
   "outputs": [],
   "source": [
    "def plot_precision_vs_recall(precisions, recalls, perc=.8, on_perc=True):\n",
    "    \"\"\"\n",
    "    Code credits: Aurélien Geron\n",
    "    https://github.com/ageron/handson-ml2/blob/master/03_classification.ipynb\n",
    "    \n",
    "    plots the precision against the recall. The perc parameter plots the percentage of\n",
    "    accuracy on the precision curve which is inverse to the recall curve.\n",
    "    \"\"\"\n",
    "    \n",
    "    plt.plot(recalls, precisions, \"b-\", linewidth=2)\n",
    "    plt.xlabel(\"Recall\", fontsize=16)\n",
    "    plt.ylabel(\"Precision\", fontsize=16)\n",
    "    plt.axis([0, 1, 0, 1])\n",
    "    plt.grid(True)\n",
    "    \n",
    "    if on_perc:\n",
    "        recall_precision = recalls[np.argmax(precisions >= perc)]\n",
    "        \n",
    "        plt.plot([recall_precision, recall_precision], [0., perc], \"r:\")\n",
    "        plt.plot([0.0, recall_precision], [perc, perc], \"r:\")\n",
    "        plt.plot([recall_precision], [perc], \"ro\")\n",
    "        \n",
    "    plt.show()"
   ]
  },
  {
   "cell_type": "code",
   "execution_count": 67,
   "id": "31600c7a-b90f-4b9d-ab1e-ee00b0d5a72c",
   "metadata": {},
   "outputs": [],
   "source": [
    "precisions, recalls, thresholds = precision_recall_curve(y_test, predictions)"
   ]
  },
  {
   "cell_type": "code",
   "execution_count": 68,
   "id": "ea18cdd8-53f0-42c5-b879-c18234fe6497",
   "metadata": {},
   "outputs": [
    {
     "data": {
      "image/png": "[encoded data removed]",
      "text/plain": [
       "<Figure size 864x360 with 1 Axes>"
      ]
     },
     "metadata": {},
     "output_type": "display_data"
    }
   ],
   "source": [
    "plot_precision_vs_recall(precisions, recalls, on_perc=False)"
   ]
  },
  {
   "cell_type": "markdown",
   "id": "8877f1f0-65a5-4816-b290-1d85bcfcbeb3",
   "metadata": {},
   "source": [
    "> **⁉**: Given our final outcome, we can conclude our model is highly sensitive (high recall). Given the dataset, do you agree this s what we need?\n",
    "\n",
    "> **🛠**: Understanding the [trade-off between precision and recall](https://www.kaggle.com/ganiyuolalekan/precision-recall-trade-off), adjust the model to have an 80% precision (which would reduce the recall rate to about 80% as well), making the model more precise and less sensitive.\n",
    "\n",
    "That concludes the model fine-tuning. ✔"
   ]
  },
  {
   "cell_type": "markdown",
   "id": "bd120668-6fa0-4283-85d2-2aca837f30fe",
   "metadata": {},
   "source": [
    "### Conclusion\n",
    "\n",
    "So that concludes our session on data modeling for classification tasks. I hope you guys have a deeper intuition on what data modeling in machine learning is all about.\n",
    "\n",
    "There are extra activities for you guys alongside those stated in the black quotes 🛠 👽. This may be more complex based on how proficient you're with the python machine learning tools, so it isn't compulsory everyone submits this as part of their assignments.\n",
    "\n",
    "1. Exceed our current accuracy using XGBoost (Time consuming, but worth it).\n",
    "2. Tackle the Titanic dataset. A great place to start is on [Kaggle](https://www.kaggle.com/c/titanic/data).\n",
    "\n",
    "__Notebook by Ganiyu Olalekan on data modeling in machine learning.__\n",
    "\n",
    "Follow **Olalekan @**:\n",
    "\n",
    "- [LinkedIn](https://www.linkedin.com/in/olalekan-ganiyu-747855199/)\n",
    "- [Twitter](https://twitter.com/GM_Olalekan)\n",
    "- [Medium](https://gmolalekan.medium.com/)\n",
    "- [Kaggle](https://www.kaggle.com/ganiyuolalekan)\n",
    "- [Github](https://github.com/ganiyuolalekan)"
   ]
  },
  {
   "cell_type": "code",
   "execution_count": null,
   "id": "a518abcd-990b-42a7-9338-d9f2b51f4c73",
   "metadata": {},
   "outputs": [],
   "source": []
  }
 ],
 "metadata": {
  "kernelspec": {
   "display_name": "Python 3",
   "language": "python",
   "name": "python3"
  },
  "language_info": {
   "codemirror_mode": {
    "name": "ipython",
    "version": 3
   },
   "file_extension": ".py",
   "mimetype": "text/x-python",
   "name": "python",
   "nbconvert_exporter": "python",
   "pygments_lexer": "ipython3",
   "version": "3.8.8"
  }
 },
 "nbformat": 4,
 "nbformat_minor": 5
}
